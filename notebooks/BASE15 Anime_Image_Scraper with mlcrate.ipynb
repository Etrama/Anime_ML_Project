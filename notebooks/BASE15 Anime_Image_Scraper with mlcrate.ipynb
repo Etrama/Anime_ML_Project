{
 "cells": [
  {
   "cell_type": "markdown",
   "metadata": {},
   "source": [
    "## TO DO:\n",
    "- [-] Take rough number of images to be downloaded as input. (Rough because few images will be corrupt and deleted later on.) - MAY NOT NEED THIS, SEE BELOW. We could also gather URLS and then select the number of URLs to scrape. But this would cap the number of images at 100, since the script scrapes 100 URLS by default, not counting the few corrupt images that we'd lose.\n",
    "- [x] The make_image_dataset function should be able to take Lists as input. When taking list inputs, need to create folders within destination folder to segregate the images."
   ]
  },
  {
   "cell_type": "markdown",
   "metadata": {},
   "source": [
    "## Getting more data:\n",
    "1. Tagged Anime Illustrations: <br>\n",
    "https://www.kaggle.com/mylesoneill/tagged-anime-illustrations/home - Will need to clone this directly into GCP. 36 GB is too much for my pleb laptop.\n",
    "\n",
    "2. Anime Faces : <br>\n",
    "http://www.nurs.or.jp/~nagadomi/animeface-character-dataset/\n",
    "\n",
    "3. Check out the links above they lead to tabular anime data as well."
   ]
  },
  {
   "cell_type": "markdown",
   "metadata": {},
   "source": [
    "### We can this the dataset gathered for Anime Identification. That is, if the above falls short."
   ]
  },
  {
   "cell_type": "markdown",
   "metadata": {},
   "source": [
    "## Lesson learnt:\n",
    "## Save all FAST AI notebooks that you edit to your local storage."
   ]
  },
  {
   "cell_type": "code",
   "execution_count": 18,
   "metadata": {},
   "outputs": [],
   "source": [
    "# !pip install pyvirtualdisplay\n",
    "# !pip install xvfbwrapper\n",
    "# !sudo apt-get install xvfb\n",
    "#!sudo apt-get install xdpyinfo!\n",
    "#!sudo apt-get install xdotool wmctrl\n",
    "#!pip install mlcrate"
   ]
  },
  {
   "cell_type": "code",
   "execution_count": 19,
   "metadata": {},
   "outputs": [],
   "source": [
    "from imutils import paths\n",
    "import argparse\n",
    "import requests\n",
    "import cv2\n",
    "import os\n",
    "from selenium import webdriver\n",
    "from selenium.webdriver.chrome.options import Options\n",
    "from selenium.webdriver.common.keys import Keys\n",
    "import os\n",
    "import glob\n",
    "import time\n",
    "from pyvirtualdisplay import Display\n",
    "from threading import *\n",
    "from multiprocessing import Pool\n",
    "from progressbar import *\n",
    "from functools import partial\n",
    "import mlcrate as mlc"
   ]
  },
  {
   "cell_type": "code",
   "execution_count": 20,
   "metadata": {},
   "outputs": [],
   "source": [
    "Anime_Faces_List = [\"Lamperouge Lelouch face\",\"Lawliet L face\",\"Monkey D Luffy face\",\"Ackerman Mikasa face\",\"Uzumaki Naruto face\",\"Sakata Gintoki face\",\"Zoldyck Killua face\",\"Kirigaya Kazuto face\",\"Hikigaya Hachiman face\",\"Berserk Guts face\",\"ReZero kara Hajimeru Isekai Seikatsu Emilia face\",\"Kaneki Ken face\",\"One Punch Man Saitama face\",\"Spiegel Spike face\",\"Noragami Yato face\",\"Gasai Yuno face\",\"Senjougahara Hitagi face\",\"Aisaka Taiga face\",\"Tengen Toppa Gurren Lagann Kamina face\",\"Fate stay night Saber face\",\"Orihara Izaya face\",\"Kurosaki Ichigo face\",\"Elric Edward face\",\"Dragneel Natsu face\",\"Oshino Shinobu face\",\"Michaelis Sebastian face\",\"Kono Subarashii Sekai ni Shukufuku wo Megumin face\",\"Onizuka Eikichi face\",\"Akemi Homura face\",\"Izumi Konata face\",\"Son Gokuu face\",\"Midoriya Izuku face\",\"Darker than Black Kuro no Keiyakusha Hei face\",\"Miyazono Kaori face\",\"Souryuu Asuka Langley face\",\"Usui Takumi face\",\"Takanashi Rikka face\",\"Oreki Houtarou face\",\"Darling in the FranXX Zero Two face\",\"Black Lagoon Revy face\",\"Shiina Mashiro face\",\"No Game No Life Sora face\",\"Elfen Lied Lucy face\",\"Himura Kenshin face\",\"Yukihira Souma face\",\"Kirisaki Chitoge face\",\"Tachibana Kanade face\",\"Gremory Rias face\",\"Trigun Vash the Stampede face\",\"Misaka Mikoto face\",\"Mushishi Ginko face\",\"Walker Allen face\",\"Yatogami Tooka face\",\"Reigen Arataka face\",\"Okazaki Tomoya face\",\"Okumura Rin face\",\"Akabane Karma face\",\"Nishimiya Shouko face\",\"Matoi Ryuuko face\",\"Samurai Champloo Mugen face\",\"Dazai Osamu face\",\"Fate Zero Saber face\",\"Yuzuriha Inori face\",\"Akiyama Mio face\",\"Soul Eater Death the Kid face\",\"Kuroko Tetsuya face\",\"Kiryuu Zero face\",\"Evergarden Violet face\",\"Nanatsu no Taizai Ban face\",\"Inaba Himeko face\",\"Shakugan no Shana Shana face\",\"Liebert Johan face\",\"Kougami Shinya face\",\"Akame ga Kill Akame face\",\"Katsuragi Keima face\",\"Hinata Shouyou face\",\"Sakurajima Mai face\",\"Kamisama Hajimemashita Tomoe face\",\"Shiba Tatsuya face\",\"Overlord Momonga face\",\"Kuroki Tomoko face\",\"Degurechaff Tanya face\",\"Kamui Kanna face\",\"Sawada Tsunayoshi face\",\"Iwakura Lain face\",\"Ayanokouji Kiyotaka face\",\"Kinomoto Sakura face\",\"Gokou Ruri face\",\"Osaki Nana face\",\"Nishikino Maki face\",\"Harima Kenji face\",\"InuYasha Inuyasha face\",\"Misaki Mei face\",\"Tomori Nao face\",\"Saiki Kusuo face\",\"Sagara Sousuke face\",\"Haruhara Haruko face\",\"Kuronuma Sawako face\",\"Edogawa Conan face\",\"Katou Megumi face\",\"Nikiforov Victor face\",\"Tsukiyomi Ikuto face\",\"Ichihara Yuuko face\",\"Deadman Wonderland Shiro face\",\"Miyamizu Mitsuha face\",\"Busujima Saeko face\",\"Akatsuki no Yona Yona face\",\"Mogami Kyouko face\",\"Itou Kaiji face\",\"Break Xerxes face\",\"Made in Abyss Regu face\",\"Makunouchi Ippo face\",\"Souma Kyou face\",\"Ryuuguu Rena face\",\"de Blois Victorique face\",\"Kirigiri Kyouko face\",\"Okabe Rintarou face\",\"Otonashi Kyoko face\",\"Stanfield Claire face\",\"Antoinette Marie face\",\"Matsutani Shuuzou face\",\"von Lohengramm Reinhard face\",\"Kaga Rin face\",\"Yonsa Balsa face\",\"Hoshino Hachirouta face\",\"Tylor Justy Ueki face\",\"Lupin III Arsene face\",\"Saeba Ryou face\",\"Kusanagi Motoko face\",\"Yabuki Joe face\",\"Urameshi Yuusuke face\",\"Saotome Ranma face\",\"Heat Brandon face\",\"Claymore Clare face\",\"Hellsing Ultimate Alucard face\",\"Ayukawa Madoka face\",\"Eureka Seven Eureka face\",\"Yasuri Shichika face\",\"Arima Ahiru face\",\"Hakubi Ryouko face\",\"Spice and Wolf Holo face\",\"Hayase Misa face\",\"Tenjou Utena face\",\"Natsume Takashi face\",\"Nakajima Youko face\",\"Kaiba Kaiba face\",\"Fanel Van face\",\"Kohinata Nanoka face\",\"Ergo Proxy Pino face\",\"Aznable Char face\",\"Future Boy Conan Conan face\",\"Gankutsuou The Count of Monte Cristo face\",\"Satou Tatsuhiro face\",\"Nobodys Boy Remi Vitalis face\",\"Inverse Lina face\",\"Suou Tamaki face\",\"Valjean Jean face\",\"Malandro Michiko face\",\"Martini Alfredo face\",\"Mononoke Kusuriuri face\",\"Phantom Requiem for the Phantom Zwei face\",\"Sakuragi Rokurouta face\",\"The Mysterious Cities of Gold Mendoza face\",\"Itoshiki Nozomu face\",\"Shirley Anne face\",\"Space Pirate Captain Harlock Captain Herlock face\",\"Uesugi Tatsuya face\",\"Chobits Chii face\",\"Silver John face\",\"Urusei yatsura Lum face\",\"Wolfs Rain Kiba face\",\"Fist of the North Star Kenshirou face\",\"Amakusa Shino face\",\"Shindou Chihiro face\",\"Haibane renmei Reki face\",\"Naegino Sora face\",\"Blood Plus Haji face\",\"Ooe Kintarou face\",\"Joestar Joseph face\",\"Suzumiya Haruhi face\",\"Noda Megumi face\",\"Abriel Lafiel face\",\"Texhnolyze Ichise face\",\"Yojohan shinwa taikei Watashi face\",\"Code Geass Hangyaku no Lelouch CC face\",\"Yagami Light face\",\"Roronoa Zoro face\",\"Yeager Eren face\",\"Hatake Kakashi face\",\"Gintama Kagura face\",\"Freecss Gon face\",\"Yuuki Asuna face\",\"Yukinoshita Yukino face\",\"Berserk Casca face\",\"Natsuki Subaru face\",\"Kirishima Touka face\",\"One Punch Man Genos face\",\"Wong Hau Pepelu Tivrusky IV Edward face\",\"Noragami Yukine face\",\"Amano Yukiteru face\",\"Araragi Koyomi face\",\"Takasu Ryuuji face\",\"Tengen Toppa Gurren Lagann Simon face\",\"Toosaka Rin face\",\"Heiwajima Shizuo face\",\"Kuchiki Rukia face\",\"Elric Alphonse face\",\"Scarlet Erza face\",\"Araragi Koyomi face\",\"Phantomhive Ciel face\",\"Satou Kazuma face\",\"Kanzaki Urumi face\",\"Kaname Madoka face\",\"Hiiragi Kagami face\",\"Dragon Ball Z Vegeta face\",\"Bakugou Katsuki face\",\"Darker than Black Kuro no Keiyakusha Yin face\",\"Arima Kousei face\",\"Ayanami Rei face\",\"Ayuzawa Misaki face\",\"Dekomori Sanae face\",\"Chitanda Eru face\",\"Darling in the FranXX Ichigo face\",\"Okajima Rokurou face\",\"Aoyama Nanami face\",\"No Game No Life Shiro face\",\"Elfen Lied Nana face\",\"Sagara Sanosuke face\",\"Nakiri Erina face\",\"Onodera Kosaki face\",\"Nakamura Yuri face\",\"Hyoudou Issei face\",\"Wolfwood Nicholas D face\",\"Kamijou Touma face\",\"Karibusa Tanyuu face\",\"D Gray man Lavi face\",\"Date A Live Yoshino face\",\"Kageyama Shigeo face\",\"Furukawa Nagisa face\",\"Okumura Yukio face\",\"Shiota Nagisa face\",\"Ishida Shouya face\",\"Kiryuuin Satsuki face\",\"Samurai Champloo Jin face\",\"Nakajima Atsushi face\",\"Emiya Kiritsugu face\",\"Ouma Shuu face\",\"Hirasawa Yui face\",\"Evans Soul Eater face\",\"Kagami Taiga face\",\"Kuran Kaname face\",\"Bougainvillea Gilbert face\",\"Nanatsu no Taizai Meliodas face\",\"Nagase Iori face\",\"Sakai Yuuji face\",\"Tenma Kenzou face\",\"Makishima Shougo face\",\"Akame ga Kill Mine face\",\"de Lute Ima Elucia face\",\"Kageyama Tobio face\",\"Azusagawa Sakuta face\",\"Momozono Nanami face\",\"Shiba Miyuki face\",\"Overlord Albedo face\",\"Kuroki Tomoki face\",\"Serebryakova Viktoriya Ivanovna face\",\"Kobayashi san Chi no Maid Dragon Tooru face\",\"Hibari Kyouya face\",\"Mizuki Arisu face\",\"Horikita Suzune face\",\"Li Shaoran face\",\"Kousaka Kyousuke face\",\"Komatsu Nana face\",\"Yazawa Niko face\",\"Sawachika Eri face\",\"Higurashi Kagome face\",\"Sakakibara Kouichi face\",\"Otosaka Yuu face\",\"Kaidou Shun face\",\"Chidori Kaname face\",\"Samejima Mamimi face\",\"Kazehaya Shouta face\",\"Haibara Ai face\",\"Kasumigaoka Utaha face\",\"Plisetsky Yuri face\",\"Hinamori Amu face\",\"Watanuki Kimihiro face\",\"Igarashi Ganta face\",\"Tachibana Taki face\",\"Komuro Takashi face\",\"Son Hak face\",\"Tsuruga Ren face\",\"Tonegawa Yukio face\",\"Nightray Gilbert face\",\"Made in Abyss Riko face\",\"Takamura Mamoru face\",\"Honda Tooru face\",\"Furude Rika face\",\"Kujou Kazuya face\",\"Danganronpa Monokuma face\",\"Makise Kurisu face\",\"Godai Yuusaku face\",\"Dian Isaac face\",\"Fersen Hans Axel von face\",\"Ringwalt Sara face\",\"von Reuenthal Oskar face\",\"Kawachi Daikichi face\",\"Guardian of the Sacred Spirit Chagum face\",\"Tanabe Ai face\",\"Yamamoto Makoto face\",\"Jigen Daisuke face\",\"Makimura Kaori face\",\"Ghost in the Shell Stand Alone Complex Batou face\",\"Rikiishi Tooru face\",\"Yu Yu Hakusho Ghost Files Hiei face\",\"Tendou Akane face\",\"MacDowel Harry face\",\"Claymore Raki face\",\"Victoria Seras face\",\"Kasuga Kyousuke face\",\"Thurston Renton face\",\"Katanagatari Togame face\",\"Princess Tutu Fakir face\",\"Hakubi Washuu face\",\"Lawrence Kraft face\",\"Lynn Minmay face\",\"Himemiya Anthy face\",\"Natsumes Book of Friends Madara face\",\"The Twelve Kingdoms Keiki face\",\"Kaiba Neiro face\",\"Kanzaki Hitomi face\",\"Saeki Koushirou face\",\"Law Vincent face\",\"Ray Amuro face\",\"Future Boy Conan Lana face\",\"dEpinay Franz face\",\"Nakahara Misaki face\",\"Nobodys Boy Remi Mattia face\",\"Graywords Zelgadis face\",\"Fujioka Haruhi face\",\"Les Miserables Shoujo Cosette Cosette face\",\"Morenos Hana face\",\"Romeos Blue Skies Romeo face\",\"Mononoke Man in Fox Mask face\",\"Phantom Requiem for the Phantom Ein face\",\"Minakami Mario face\",\"The Mysterious Cities of Gold Esteban face\",\"Fuura Kafuka face\",\"Cuthbert Matthew face\",\"Space Pirate Captain Harlock Miime face\",\"Asakura Minami face\",\"Motosuwa Hideki face\",\"Hawkins Jim face\",\"Moroboshi Ataru face\",\"Wolfs Rain Toboe face\",\"Fist of the North Star Raou face\",\"Hagimura Suzu face\",\"Miyamura Miyako face\",\"Haibane renmei Rakka face\",\"Hamilton Layla face\",\"Otonashi Saya face\",\"Golden Boy Madame President face\",\"Brando Dio face\",\"The Melancholy of Haruhi Suzumiya Kyon face\",\"Chiaki Shinichi face\",\"Linn Jinto face\",\"Texhnolyze Ran face\",\"Yojohan shinwa taikei Akashi face\",\"Stadtfeld Kallen face\",\"Death Note Ryuk face\",\"One Piece Sanji face\",\"Arlert Armin face\",\"Uchiha Sasuke face\",\"Shimura Shinpachi face\",\"Hunter x Hunter Kurapika face\",\"Kirigaya Suguha face\",\"Yuigahama Yui face\",\"Berserk Puck face\",\"ReZero kara Hajimeru Isekai Seikatsu Rem face\",\"Suzuya Juuzou face\",\"One Punch Man Mumen Rider face\",\"Valentine Faye face\",\"Iki Hiyori face\",\"Uryuu Minene face\",\"Hanekawa Tsubasa face\",\"Kushieda Minori face\",\"Littner Yoko face\",\"Fate stay night Archer face\",\"Sturluson Celty face\",\"Abarai Renji face\",\"Mustang Roy face\",\"Fullbuster Gray face\",\"Hanekawa Tsubasa face\",\"Sutcliff Grell face\",\"Kono Subarashii Sekai ni Shukufuku wo Aqua face\",\"Kikuchi Yoshito face\",\"Sakura Kyouko face\",\"Hiiragi Tsukasa face\",\"Son Gohan face\",\"Boku no Hero Academia All Might face\",\"Darker than Black Kuro no Keiyakusha Mao face\",\"Sawabe Tsubaki face\",\"Ikari Shinji face\",\"Hyoudou Aoi face\",\"Togashi Yuuta face\",\"Fukube Satoshi face\",\"Darling in the FranXX Hiro face\",\"Black Lagoon Dutch face\",\"Kanda Sorata face\",\"Dola Stephanie face\",\"Elfen Lied Kouta face\",\"Kamiya Kaoru face\",\"Tadokoro Megumi face\",\"Ichijou Raku face\",\"Angel Beats Yui face\",\"Himejima Akeno face\",\"Thompson Milly face\",\"Toaru Majutsu no Index tan Librorum Prohibitorum Index face\",\"Mushishi Nui face\",\"Kanda Yuu face\",\"Tobiichi Origami face\",\"Mob Psycho 100 Ekubo face\",\"Sakagami Tomoyo face\",\"Pheles Mephisto face\",\"Kayano Kaede face\",\"Nishimiya Yuzuru face\",\"Mankanshoku Mako face\",\"Kasumi Fuu face\",\"Nakahara Chuuya face\",\"Fate Zero Gilgamesh face\",\"Tsutsugami Gai face\",\"Nakano Azusa face\",\"Albarn Maka face\",\"Aomine Daiki face\",\"Cross Yuuki face\",\"Marlborough Luculia face\",\"Nanatsu no Taizai King face\",\"Yaegashi Taichi face\",\"Yoshida Kazumi face\",\"Liebert Anna face\",\"Tsunemori Akane face\",\"Akame ga Kill Tatsumi face\",\"Shiomiya Shiori face\",\"Nishinoya Yuu face\",\"Koga Tomoe face\",\"Kamisama Hajimemashita Mizuki face\",\"Saegusa Mayumi face\",\"Bloodfallen Shalltear face\",\"Naruse Yuu face\",\"von Zettour Hans face\",\"Kobayashi san Chi no Maid Dragon Kobayashi face\",\"Gokudera Hayato face\",\"Eiri Masami face\",\"Kushida Kikyou face\",\"Daidouji Tomoyo face\",\"Kousaka Kirino face\",\"Okazaki Shinichi face\",\"Toujou Nozomi face\",\"Tsukamoto Yakumo face\",\"InuYasha Sango face\",\"Akazawa Izumi face\",\"Otosaka Ayumi face\",\"Nendou Riki face\",\"Testarossa Teletha face\",\"Nandaba Naota face\",\"Sanada Ryuu face\",\"Mouri Ran face\",\"Sawamura Eriri Spencer face\",\"Katsuki Yuuri face\",\"Hoshina Utau face\",\"Doumeki Shizuka face\",\"Senji Kiyomasa face\",\"Yukino Yukari face\",\"Hirano Kouta face\",\"Akatsuki no Yona shin ah face\",\"Fuwa Shoutarou face\",\"Hyoudou Kazutaka face\",\"Pandora Hearts Alice face\",\"Made in Abyss Nanachi face\",\"Aoki Masaru face\",\"Souma Yuki face\",\"Sonozaki Shion face\",\"Gallo Cordelia face\",\"Naegi Makoto face\",\"Shiina Mayuri face\",\"Maison Ikkoku Yotsuya face\",\"Harvent Miria face\",\"de Jarjeyes Oscar Francois face\",\"Now and Then Here and There Nabuca face\",\"von Oberstein Paul face\",\"Nitani Kouki face\",\"Guardian of the Sacred Spirit Tanda face\",\"Carmichael Fee face\",\"Star Yuriko face\",\"Mine Fujiko face\",\"Nogami Saeko face\",\"Ghost in the Shell Stand Alone Complex Togusa face\",\"Tange Danpei face\",\"Yu Yu Hakusho Ghost Files Kurama face\",\"Hibiki Ryouga face\",\"Kugashira Bunji face\",\"Claymore Teresa face\",\"Fairbrook Wingates Hellsing Integra face\",\"Hiyama Hikaru face\",\"Novak Holland face\",\"Yasuri Nanami face\",\"Kuroha Rue face\",\"Masaki Tenchi face\",\"Arendt Norah face\",\"Ichijou Hikaru face\",\"Arisugawa Juri face\",\"Natsume Reiko face\",\"The Twelve Kingdoms Rakushun face\",\"Kaiba Popo face\",\"Albatou Dilandau face\",\"Chidori Kaname face\",\"Ergo Proxy Ergo Proxy face\",\"Noa Bright face\",\"Future Boy Conan Jimsy face\",\"de Morcerf Albert face\",\"Yamazaki Kaoru face\",\"Nobodys Boy Remi Mrs Milligan face\",\"Gabriev Gourry face\",\"Hitachiin Hikaru face\",\"Les Miserables Shoujo Cosette Javert face\",\"Jackson Atsuko face\",\"Romeos Blue Skies Nikita face\",\"Mononoke Kayo face\",\"Devens Cal face\",\"Maeda Noboru face\",\"The Mysterious Cities of Gold Zia face\",\"Kitsu Chiri face\",\"Cuthbert Marilla face\",\"Space Pirate Captain Harlock yuki kei face\",\"Uesugi Kazuya face\",\"Chobits Sumomo face\",\"Gray Abraham face\",\"Mendo Shutaro face\",\"Wolfs Rain Tsume face\",\"Fist of the North Star Rei face\",\"Tsuda Takatoshi face\",\"Asou Renji face\",\"Haibane renmei Kuu face\",\"Kaleido Star Fool face\",\"Miyagusuku Kai face\",\"Terayama Reiko face\",\"Joestar Jonathan face\",\"Nagato Yuki face\",\"Stresemann Franz von face\",\"Spoor Beneej face\",\"Yoshii Kazuho face\",\"Yojohan shinwa taikei Ozu face\",\"Kururugi Suzaku face\",\"River Nate face\",\"Nico Robin face\",\"Shingeki no Kyojin Levi face\",\"Haruno Sakura face\",\"Hijikata Toushirou face\",\"Paladiknight Leorio face\",\"Sword Art Online Yui face\",\"Totsuka Saika face\",\"Berserk Isidro face\",\"Argyle Felix face\",\"Tokyo Ghoul Uta face\",\"One Punch Man Tatsumaki face\",\"Black Jet face\",\"Noragami Bishamon face\",\"Akise Aru face\",\"Hachikuji Mayoi face\",\"Kawashima Ami face\",\"Teppelin Nia face\",\"Emiya Shirou face\",\"Kida Masaomi face\",\"Inoue Orihime face\",\"Hughes Maes face\",\"Heartfilia Lucy face\",\"Oshino Meme face\",\"Kuroshitsuji Undertaker face\",\"Dustiness Ford Lalatina face\",\"Uchiyamada Hiroshi face\",\"Tomoe Mami face\",\"Takara Miyuki face\",\"Dragon Ball Z Piccolo face\",\"Uraraka Ochako face\",\"Kirihara Misaki face\",\"Watari Ryouta face\",\"Katsuragi Misato face\",\"Shintani Hinata face\",\"Nibutani Shinka face\",\"Ibara Mayaka face\",\"Darling in the FranXX Gorou face\",\"Black Lagoon Benny face\",\"Akasaka Ryuunosuke face\",\"No Game No Life Jibril face\",\"Elfen Lied Mayu face\",\"Myoujin Yahiko face\",\"Nakiri Alice face\",\"Tsugumi Seishirou face\",\"Otonashi Yuzuru face\",\"Toujou Koneko face\",\"Stryfe Meryl face\",\"Toaru Majutsu no Index tan Accelerator face\",\"Mushishi Adashino face\",\"Lee Lenalee face\",\"Itsuka Kotori face\",\"Hanazawa Teruki face\",\"Fujibayashi Kyou face\",\"Ao no Exorcist Amaimon face\",\"Karasuma Tadaomi face\",\"Ueno Naoka face\",\"Kill la Kill Senketsu face\",\"Samurai Champloo Sara face\",\"Edogawa Ranpo face\",\"Kotomine Kirei face\",\"Shinomiya Ayase face\",\"Kotobuki Tsumugi face\",\"Nakatsukasa Tsubaki face\",\"Akashi Seijuurou face\",\"Aidou Hanabusa face\",\"Blue Benedict face\",\"Liones Elizabeth face\",\"Kiriyama Yui face\",\"Carmel Wilhelmina face\",\"Grimmer Wolfgang face\",\"Ginoza Nobuchika face\",\"Akame ga Kill Leone face\",\"Kosaka Chihiro face\",\"Oikawa Tooru face\",\"Azusagawa Kaede face\",\"Kurama Shinjirou face\",\"Chiba Erika face\",\"Gamma Narberal face\",\"Imae Megumi face\",\"von Rerugen Erich face\",\"Kobayashi san Chi no Maid Dragon Quetzalcoatl face\",\"Rokudou Mukuro face\",\"Iwakura Yasuo face\",\"Youkoso Jitsuryoku Shijou Shugi no Kyoushitsu e sakura airi face\",\"Cardcaptor Sakura Keroberos face\",\"Aragaki Ayase face\",\"Terashima Nobuo face\",\"Minami Kotori face\",\"Tsukamoto Tenma face\",\"InuYasha Miroku face\",\"Teshigawara Naoya face\",\"Kurobane Yusa face\",\"Teruhashi Kokomi face\",\"Weber Kurz face\",\"FLCL Canti face\",\"Yoshida Chizuru face\",\"Mouri Kogorou face\",\"Aki Tomoya face\",\"Chulanont Phichit face\",\"Souma Kuukai face\",\"Kunogi Himawari face\",\"Sakigami Toto face\",\"Okudera Miki face\",\"Miyamoto Rei face\",\"Akatsuki no Yona jae ha face\",\"Yashiro Yukihito face\",\"REMOVE\",\"Vessalius Oz face\",\"Made in Abyss Ouzen face\",\"Kamogawa Genji face\",\"Souma Shigure face\",\"Sonozaki Mion face\",\"Roscoe Brian face\",\"Enoshima Junko face\",\"Hashida Itaru face\",\"Roppongi Akemi face\",\"Russo Ladd face\",\"Grandier Andre face\",\"Now and Then Here and There Hamdo face\",\"Kircheis Siegfried face\",\"Nitani Yukari face\",\"Guardian of the Sacred Spirit Torogai face\",\"Mihalkov Yuri face\",\"Goza Azalyn face\",\"Ishikawa XIII Goemon face\",\"Ijuuin Hayato face\",\"Aramaki Daisuke face\",\"Rivera Carlos face\",\"Kuwabara Kazuma face\",\"Ranma Shampoo face\",\"Walken Bear face\",\"Claymore Miria face\",\"Anderson Alexander face\",\"Kasuga Kurumi face\",\"Yuuki Talho face\",\"Katanagatari Hitei face\",\"Princess Tutu Myuuto face\",\"Masaki Sasami Jurai face\",\"Spice and Wolf Chloe face\",\"Focker Roy face\",\"Kiryuu Nanami face\",\"Tanuma Kaname face\",\"The Twelve Kingdoms Enki face\",\"Kaiba Chroniko face\",\"Fanel Folken face\",\"Anzai Futaba face\",\"Ergo Proxy Iggy face\",\"Mobile Suit Gundam Haro face\",\"Future Boy Conan Dyce face\",\"Gankutsuou Gankutsuou face\",\"Welcome to the NHK Purin face\",\"Nobodys Boy Remi Bob face\",\"Saillune Amelia Wil Tesla face\",\"Hitachiin Kaoru face\",\"Eponine Jondrette Girl Ponine Thenardier face\",\"Batista Satoshi face\",\"Montovani Angeletta face\",\"Mononoke Umizatou face\",\"McCunnen Claudia face\",\"Yokosuka Jou face\",\"The Mysterious Cities of Gold Tao face\",\"Komori Kiri face\",\"Blythe Gilbert face\",\"Space Pirate Captain Harlock daiba tadashi face\",\"Harada Shouhei face\",\"Chobits Freya face\",\"Treasure Island Pew face\",\"Miyake Shinobu face\",\"Wolfs Rain Hige face\",\"Fist of the North Star Toki face\",\"Shichijou Aria face\",\"Hirono Hiro face\",\"Haibane renmei Kana face\",\"Oswald Leon face\",\"Blood Plus Diva face\",\"Hayami Ayuko face\",\"Speedwagon Robert E O face\",\"Asahina Mikuru face\",\"Kuroki Yasunori face\",\"Abriel Dusanyu face\",\"Oonishi Keigo face\",\"Higuchi Seitarou face\",\"Gottwald Jeremiah face\",\"Amane Misa face\",\"One Piece Nami face\",\"Smith Erwin face\",\"Uchiha Itachi face\",\"Katsura Kotarou face\",\"Morow Hisoka face\",\"Ayano Keiko face\",\"Hikigaya Komachi face\",\"Berserk Griffith face\",\"ReZero kara Hajimeru Isekai Seikatsu Ram face\",\"Tsukiyama Shuu face\",\"One Punch Man Fubuki face\",\"Cowboy Bebop Ein face\",\"Noragami Kofuku face\",\"Hirasaka Yomotsu face\",\"Kanbaru Suruga face\",\"Kitamura Yuusaku face\",\"Tengen Toppa Gurren Lagann Viral face\",\"Emiya Kiritsugu face\",\"Ryuugamine Mikado face\",\"Ishida Uryuu face\",\"Fullmetal Alchemist Brotherhood Greed face\",\"Fairy Tail Happy face\",\"Kizumonogatari I Tekketsu hen Episode face\",\"Kuroshitsuji Finnian face\",\"Kono Subarashii Sekai ni Shukufuku wo Wiz face\",\"Nomura Tomoko face\",\"Miki Sayaka face\",\"Kogami Akira face\",\"Dragon Ball Z Kuririn face\",\"Iida Tenya face\",\"Darker than Black Kuro no Keiyakusha Huang face\",\"Igawa Emi face\",\"Nagisa Kaworu face\",\"Ayuzawa Suzuna face\",\"Tsuyuri Kumin face\",\"Irisu Fuyumi face\",\"Darling in the FranXX Kokoro face\",\"Black Lagoon Balalaika face\",\"Kamiigusa Misaki face\",\"Hatsuse Izuna face\",\"Elfen Lied Yuka face\",\"Saitou Hajime face\",\"Isshiki Satoshi face\",\"Tachibana Marika face\",\"Hinata Hideki face\",\"Argento Asia face\",\"Bluesummers Legato face\",\"Toaru Majutsu no Index tan MISAKA 10032 face\",\"REMOVE\",\"Mikk Tyki face\",\"Itsuka Shidou face\",\"Kageyama Ritsu face\",\"Ibuki Fuuko face\",\"Ao no Exorcist Kuro face\",\"Asano Gakushuu face\",\"Nagatsuka Tomohiro face\",\"Jakuzure Nonon face\",\"Imano Yatsuha face\",\"Akutagawa Ryuunosuke face\",\"von Einzbern Irisviel face\",\"Guilty Crown Tsugumi face\",\"Tainaka Ritsu face\",\"Thompson Patricia face\",\"Kise Ryouta face\",\"Shiki Senri face\",\"Baudelaire Cattleya face\",\"Nanatsu no Taizai Hawk face\",\"Aoki Yoshifumi face\",\"Shakugan no Shana Hecate face\",\"Lunge Heinrich face\",\"Kagari Shuusei face\",\"Akame ga Kill Esdeath face\",\"Nakagawa Kanon face\",\"Tsukishima Kei face\",\"Futaba Rio face\",\"Kamisama Hajimemashita Akuraou face\",\"Kitayama Shizuku face\",\"Overlord Sebas Tian face\",\"Nemoto Hina face\",\"von Rudersdorf Kurt face\",\"Kobayashi san Chi no Maid Dragon Elma face\",\"Yamamoto Takeshi face\",\"Serial Experiments Lain Karl face\",\"ichinose honami face\",\"Cardcaptor Sakura Yue face\",\"Tamura Manami face\",\"Takagi Yasushi face\",\"Sonoda Umi face\",\"Takano Akira face\",\"InuYasha Shippo face\",\"Mochizuki Yuuya face\",\"Takajou Joujirou face\",\"Kuboyasu Aren face\",\"Mao Melissa face\",\"Ninamori Eri face\",\"Yano Ayane face\",\"Agasa Hiroshi face\",\"Hyoudou Michiru face\",\"Altin Otabek face\",\"Fujisaki Nagihiko face\",\"REMOVE\",\"Takami Minatsuki face\",\"Miyamizu Yotsuha face\",\"Takagi Saya face\",\"Akatsuki no Yona ki ja face\",\"Kotonami Kanae face\",\"Ishida Kouji face\",\"Rainsworth Sharon face\",\"Made in Abyss Bondrewd face\",\"Kimura Tatsuya face\",\"Souma Hatsuharu face\",\"Maebara Keiichi face\",\"de Blois Grevil face\",\"Ludenberg Celestia face\",\"Amane Suzuha face\",\"Ichinose Hanae face\",\"Prochainezo Firo face\",\"lamorliere rosalie face\",\"Now and Then Here and There Boo face\",\"Mittermeyer Wolfgang face\",\"Yoshii Masako face\",\"Musa Jiguro face\",\"Planetes Nono face\",\"The Irresponsible Captain Tylor Jason face\",\"Zenigata Kouichi face\",\"Makimura Hideyuki face\",\"Ghost in the Shell Stand Alone Complex Tachikoma face\",\"Shiraki Yoko face\",\"Yu Yu Hakusho Ghost Files Botan face\",\"Kuonji Ukyo face\",\"Gungrave Big Daddy face\",\"Claymore Galatea face\",\"Dornez Walter C face\",\"Kimagure Orange Road Jingoro face\",\"Eureka Seven Anemone face\",\"Souda Emonzaemon face\",\"Princess Tutu Drosselmeyer face\",\"Masaki Aeka Jurai face\",\"Liechten Marhait face\",\"Jenius Maximilian face\",\"Kiryuu Touga face\",\"Natsumes Book of Friends Kogitsune face\",\"The Twelve Kingdoms Shouryuu face\",\"Kaiba Vanilla face\",\"Schezar Allen face\",\"Tamaki Ouko face\",\"Creed Raul face\",\"Ral Ramba face\",\"Future Boy Conan Monsley face\",\"Gankutsuou Peppo face\",\"Kashiwa Hitomi face\",\"Nobodys Boy Remi Capi face\",\"Nels Laada Sylphiel face\",\"Ootori Kyouya face\",\"Les Miserables Shoujo Cosette Gavroche face\",\"Ozzetti Rita face\",\"Romeos Blue Skies Giovanni face\",\"Mononoke Shino face\",\"Garland Lizzie face\",\"Nomoto Ryuuji face\",\"The Mysterious Cities of Gold Menator face\",\"Tsunetsuki Matoi face\",\"Barry Diana face\",\"Space Pirate Captain Harlock emeraldas face\",\"Kashiwaba Eijirou face\",\"Chobits Kotoko face\",\"Treasure Island Anderson face\",\"Fujinami Ryuunosuke face\",\"Wolfs Rain Cheza face\",\"Fist of the North Star Jagi face\",\"Hata Ranko face\",\"Shindou Kei face\",\"Haibane renmei Nemu face\",\"Passel Rosetta face\",\"Goldsmith Solomon face\",\"Katsuda Naoko face\",\"Zeppeli Caesar Anthonio face\",\"Koizumi Itsuki face\",\"Mine Ryuutarou face\",\"Lexshue Plakia face\",\"Kamata Eriko face\", \"Yojohan shinwa taikei Johnny face\",\"Fenette Shirley face\",\"Keehl Mihael face\",\"Tony Tony Chopper face\",\"Blouse Sasha face\",\"Naruto Shippuuden Gaara face\",\"Okita Sougo face\",\"Lucilfer Chrollo face\",\"Tsuboi Ryoutarou face\",\"Hiratsuka Shizuka face\",\"Berserk Schierke face\",\"ReZero kara Hajimeru Isekai Seikatsu Beatrice face\",\"Nagachika Hideyoshi face\",\"One Punch Man King face\",\"Cowboy Bebop Vicious face\",\"Noragami Kazuma face\",\"Mirai Nikki Deus Ex Machina face\",\"Sengoku Nadeko face\",\"Toradora Inko face\",\"Bachika Kittan face\",\"Fate stay night Gilgamesh face\",\"Sonohara Anri face\",\"Sado Yasutora face\",\"Hawkeye Riza face\",\"Marvell Wendy face\",\"Kizumonogatari I Tekketsu hen Guillotinecutter face\",\"Midford Elizabeth face\",\"Kono Subarashii Sekai ni Shukufuku wo Eris face\",\"Fuyutsuki Azusa face\",\"Mahou Shoujo Madoka Magica Kyuubey face\",\"Kusakabe Misao face\",\"Dragon Ball Z Trunks face\",\"Todoroki Shouto face\",\"Darker than Black Kuro no Keiyakusha Amber face\",\"Seto Koharu face\",\"Ikari Gendou face\",\"Igarashi Tora face\",\"Takanashi Tooka face\",\"Oreki Tomoe face\",\"Darling in the FranXX Miku face\",\"Black Lagoon Roberta face\",\"Mitaka Jin face\",\"No Game No Life Teto face\",\"Kurama Mariko face\",\"Shishio Makoto face\",\"Kurokiba Ryou face\",\"Maiko Shuu face\",\"Angel Beats TK face\",\"Kiba Yuuto face\",\"Trigun Kuroneko face\",\"Kanzaki Kaori face\",\"Mushishi Sui face\",\"Kamelot Road face\",\"Tokisaki Kurumi face\",\"Gouda Musashi face\",\"Ichinose Kotomi face\",\"Kirigakure Shura face\",\"Ansatsu Kyoushitsu Ritsu face\",\"Koe no Katachi Pedro face\",\"Harime Nui face\",\"Sakami Manzou face\",\"Izumi Kyouka face\",\"Toosaka Rin face\",\"Menjou Hare face\",\"Hirasawa Ui face\",\"Thompson Elizabeth face\",\"Midorima Shintarou face\",\"Tooya Rima face\",\"Stephanotis Leon face\",\"Nanatsu no Taizai Diane face\",\"Kokoro Connect Fuusenkazura face\",\"Daw Margery face\",\"Heinemann Eva face\",\"Masaoka Tomomi face\",\"Akame ga Kill Lubbock face\",\"Takahara Ayumi face\",\"Kuroo Tetsurou face\",\"Makinohara Shouko face\",\"Kamisama Hajimemashita Mikage face\",\"Ichijou Masaki face\",\"Overlord Demiurge face\",\"Satozaki Kiko face\",\"von Schugel Adelheid face\",\"Kobayashi san Chi no Maid Dragon Fafnir face\",\"Katekyo Hitman Reborn Reborn face\",\"Iwakura Mika face\",\"sakayanagi arisu face\",\"Kinomoto Touya face\",\"Makishima Saori face\",\"Honjou Ren face\",\"Kousaka Honoka face\",\"Karasuma Ouji face\",\"InuYasha Sesshoumaru face\",\"Fujioka Misaki face\",\"Otosaka Shunsuke face\",\"Hairo Kineshi face\",\"Full Metal Panic Gauron face\",\"FLCL Amarao face\",\"Arai Kazuichi face\",\"Yoshida Ayumi face\",\"Hashima Izumi face\",\"Minami Kenjirou face\",\"Hotori Tadase face\",\"Modoki Mokona face\",\"Azuma Genkaku face\",\"Miyamizu Hitoha face\",\"Marikawa Shizuka face\",\"Akatsuki no Yona yun face\",\"Skip Beat Reino face\",\"Endou Yuuji face\",\"Nightray Elliot face\",\"Made in Abyss Mitty face\",\"Sendo Takeshi face\",\"Souma Momiji face\",\"Houjou Satoko face\",\"Lafitte Cecile face\",\"Fukawa Touko face\",\"Urushibara Ruka face\",\"Ichinose Kentarou face\",\"Splot Jacuzzi face\",\"valois de la motta jeanne face\",\"Now and Then Here and There Sis face\",\"Legend of the Galactic Heroes Walter von Schenkopp face\",\"Kawachi Kazumi face\",\"Guardian of the Sacred Spirit Saya face\",\"Locksmith Werner face\",\"Dom Ru Baraba face\",\"Lupin the 3rd Lupin II face\",\"City Hunter Ginji face\",\"Ghost in the Shell Stand Alone Complex The Laughing Man face\",\"nishi kan ichi face\",\"Toguro Younger face\",\"Tendou Nabiki face\",\"Poundmax Bob face\",\"Claymore Irene face\",\"Bernadotte Pip face\",\"Kasuga Manami face\",\"Sorel Dominic face\",\"Higaki Rinne face\",\"Princess Tutu Uzura face\",\"Kuramitsu Mihoshi face\",\"Spice and Wolf Zheren face\",\"Fallyna Milia face\",\"Ootori Akio face\",\"Natori Shuuichi face\",\"The Twelve Kingdoms Taiki face\",\"Kaiba Quilt face\",\"Escaflowne Merle face\",\"Miyauchi Kazuya face\",\"Yumeno Daedalus face\",\"Mass Sayla face\",\"Future Boy Conan Lepka face\",\"Cavalcanti Andrea face\",\"Welcome to the NHK NHK Agents face\",\"Acquin Lise face\",\"The Slayers Rezo face\",\"Haninozuka Mitsukuni face\",\"Pontmercy Marius face\",\"Lee Vanessa face\",\"Romeos Blue Skies Casella face\",\"Mononoke Ochou face\",\"von Giuseppe Helmut face\",\"Tooyama Tadayoshi face\",\"The Mysterious Cities of Gold Picchu face\",\"Hitou Nami face\",\"Andrews Minnie face\",\"Space Pirate Captain Harlock ooyama tochirou face\",\"Touch Punch face\",\"Chobits Yuzuki face\",\"Treasure Island Dr Livesey face\",\"Urusei yatsura Ran face\",\"Wolfs Rain Blue face\",\"Fist of the North Star Souther face\",\"Mitsuba Mutsumi face\",\"Amamiya Yuuko face\",\"Haibane renmei Hikari face\",\"Wong May face\",\"Blood Plus Moses face\",\"Golden Boy Chie face\",\"Lisa Lisa face\",\"The Melancholy of Haruhi Suzumiya Tsuruya face\",\"Okuyama Masumi face\",\"REMOVE\",\"Texhnolyze Shinji face\",\"Jougasaki Masaki face\",\"Asplund Lloyd face\",\"Jeevas Mail face\",\"One Piece Usopp face\",\"Leonhart Annie face\",\"Nara Shikamaru face\",\"Hasegawa Taizou face\",\"Netero Isaac face\",\"Shinozaki Rika face\",\"Yukinoshita Haruno face\",\"Berserk The Skull Knight face\",\"ReZero kara Hajimeru Isekai Seikatsu Pack face\",\"Tokyo Ghoul Eto face\",\"One Punch Man Metal Bat face\",\"Eckener Grencia Mars Elijah Guo face\",\"Noragami Nora face\",\"Kasugano Tsubaki face\",\"Oshino Shinobu face\",\"Takasu Yasuko face\",\"Tengen Toppa Gurren Lagann Boota face\",\"von Einzbern Illyasviel face\",\"Dian Isaac face\",\"Zaraki Kenpachi face\",\"Yao Ling face\",\"Lockser Juvia face\",\"Kizumonogatari I Tekketsu hen Dramaturgie face\",\"Spears William T face\",\"Kono Subarashii Sekai ni Shukufuku wo Chris face\",\"Yoshikawa Noboru face\",\"Mahou Shoujo Madoka Magica Charlotte face\",\"Shiraishi Minoru face\",\"Dragon Ball Z Future Trunks face\",\"Asui Tsuyu face\",\"Darker than Black Kuro no Keiyakusha November 11 face\",\"Aiza Nagi face\",\"Neon Genesis Evangelion Pen Pen face\",\"Kanou Soutarou face\",\"Isshiki Makoto face\",\"Sawakiguchi Misaki face\",\"Darling in the FranXX Mitsuru face\",\"Black Lagoon Eda face\",\"Ainsworth Rita face\",\"Zell Chlammy face\",\"Elfen Lied Bando face\",\"Seta Soujirou face\",\"Mito Ikumi face\",\"Miyamoto Ruri face\",\"Iwasawa Masami face\",\"Phenex Ravel face\",\"Millions Knives face\",\"Tsuchimikado Motoharu face\",\"Mushishi Maho face\",\"Marian Cross face\",\"Murasame Reine face\",\"Suzuki Shou face\",\"Sunohara Youhei face\",\"Moriyama Shiemi face\",\"Horibe Itona face\",\"Sahara Miyoko face\",\"Gamagoori Ira face\",\"Kariya Kagetoki face\",\"Kunikida Doppo face\",\"Fate Zero Rider face\",\"Yan Daryl face\",\"Yamanaka Sawako face\",\"Stein Franken face\",\"Murasakibara Atsushi face\",\"Ichijou Takuma face\",\"Hodgins Claudia face\",\"Nanatsu no Taizai Gowther face\",\"Yaegashi Rina face\",\"nbh w khamsin face\",\"Monster Dieter face\",\"Kunizuka Yayoi face\",\"Akame ga Kill Chelsea face\",\"Nikaido Yuri face\",\"Kozume Kenma face\",\"Toyohama Nodoka face\",\"Mouri Kirihito face\",\"Shibata Mizuki face\",\"Zeta Entoma Vasilissa face\",\"Watashi ga Motenai no wa Dou Kangaetemo Omaera ga Warui Hatsushiba face\",\"Sioux Mary face\",\"Saikawa Riko face\",\"Katekyo Hitman Reborn Lambo face\",\"Yomoda Chisa face\",\"karuizawa kei face\",\"Tsukishiro Yukito face\",\"Kurusu Kanako face\",\"Ichinose Takumi face\",\"Ayase Eri face\",\"Suou Mikoto face\",\"InuYasha Kikyou face\",\"Chibiki Tatsuji face\",\"Kurobane Misa face\",\"Saiki Kurumi face\",\"Kalinin Andrei Sergeivich face\",\"FLCL Takkun face\",\"Kurumizawa Ume face\",\"Tsuburaya Mitsuhiko face\",\"Kamigou Yoshihiko face\",\"Giacometti Christophe face\",\"Shugo Chara Miki face\",\"xxxHOLiC Mugetsu face\",\"Kengamine Nagi face\",\"Teshigawara Katsuhiko face\",\"Maresato Alice face\",\"Akatsuki no Yona zeno face\",\"Takarada Lory face\",\"Andou Mamoru face\",\"Nightray Vincent face\",\"Made in Abyss Lyza face\",\"Zangief Alexander Volg face\",\"Souma Ayame face\",\"Takano Miyo face\",\"Bradley Avril face\",\"Fujisaki Chihiro face\",\"Akiha Rumiho face\",\"Nanao Kozue face\",\"Laforet Chane face\",\"de soisson alain face\",\"Now and Then Here and There Soon face\",\"Minci Julian face\",\"Kaga Souichi face\",\"Guardian of the Sacred Spirit Shuga face\",\"Rivera Edelgard face\",\"Kitaguchi Hidezaburo face\",\"Lupin the 3rd Mr Gold face\",\"Azuki Yuuko face\",\"Ghost in the Shell Stand Alone Complex Saito face\",\"Gondo Goromaki face\",\"Sensui Shinobu face\",\"Ranma Happosai face\",\"Lee Balladbird face\",\"Claymore Ophelia face\",\"Hellsing Ultimate Major face\",\"Kimagure Orange Road Master face\",\"Beams Charles face\",\"Maniwa Houou face\",\"Princess Tutu Edel face\",\"Makibi Kiyone face\",\"Liebert Marten face\",\"Global Bruno J face\",\"Kaoru Miki face\",\"Natsumes Book of Friends Hinoe face\",\"The Twelve Kingdoms Shoukei face\",\"Kaiba Patch face\",\"Fassa Dryden face\",\"Anzai Wakaba face\",\"One Proxy face\",\"Zabi Mineva Lao face\",\"Future Boy Conan Meizal face\",\"Bertuccio Giovanni face\",\"Kobayashi Megumi face\",\"Milligan Arthur face\",\"The Slayers Noonsa face\",\"Morinozuka Takashi face\",\"Les Miserables Shoujo Cosette Enjolras face\",\"Rodriguez Shinsuke face\",\"Romeos Blue Skies Dante face\",\"Yanagi Genyousai face\",\"McGuire Raymond face\",\"Matsuura Mansaku face\",\"The Mysterious Cities of Gold Pedro face\",\"Fujiyoshi Harumi face\",\"Pye Gertie face\",\"Space Pirate Captain Harlock rafflesia face\",\"Nitta Yuka face\",\"Kokubunji Minoru face\",\"Treasure Island George face\",\"Urusei yatsura Sakura face\",\"Wolfs Rain Lord Darcia the Third face\",\"Fist of the North Star Bat face\",\"Yokoshima Naruko face\",\"Himura Yuu face\",\"Haibane renmei The Communicator face\",\"Killian Yuri face\",\"Miyagusuku Riku face\",\"Golden Boy Employee E face\",\"Zeppeli Will A face\",\"Asakura Ryouko face\",\"Miki Kiyora face\",\"Crest of the Stars Kyte face\",\"Tooyama Haruhiko face\",\"Hanuki Ryouko face\",\"li Britannia Euphemia face\",\"Matsuda Touta face\",\"One Piece Brook face\",\"Kirstein Jean face\",\"Hyuuga Hinata face\",\"Gintama Tsukuyo face\",\"Pohtoh Feitan face\",\"Sword Art Online Sachi face\",\"Kawasaki Saki face\",\"Berserk Judeau face\",\"Karsten Crusch face\",\"Arima Kishou face\",\"One Punch Man Puripuri Prisoner face\",\"Cowboy Bebop Julia face\",\"Noragami Daikoku face\",\"Mirai Nikki Mur Mur face\",\"Oshino Meme face\",\"Kanou Sumire face\",\"Tengen Toppa Gurren Lagann Lordgenome face\",\"Kotomine Kirei face\",\"Harvent Miria face\",\"Hitsugaya Toushirou face\",\"Armstrong Alex Louis face\",\"Dreyar Laxus face\",\"REMOVE\",\"Cainz Drocell face\",\"Kono Subarashii Sekai ni Shukufuku wo Luna face\",\"Murai Kunio face\",\"Kaname Junko face\",\"Iwasaki Minami face\",\"Dragon Ball Z Bulma face\",\"Aizawa Shouta face\",\"Darker than Black Kuro no Keiyakusha July face\",\"Aiza Takeshi face\",\"Kaji Ryouji face\",\"Yukimura Shouichirou face\",\"Togashi Kuzuha face\",\"Juumonji Kaho face\",\"Darling in the FranXX Zorome face\",\"Black Lagoon Shenhua face\",\"Kanda Yuuko face\",\"No Game No Life Miko face\",\"Elfen Lied Kurama face\",\"Hiko Seijuurou face\",\"Yukihira Jouichirou face\",\"Sasaki Ryuunosuke face\",\"Angel Beats Shiina face\",\"Lucifer Sirzechs face\",\"Saverem Rem face\",\"Magnus Stiyl face\",\"Ioroi Shinra face\",\"Lee Komui face\",\"Takamiya Mana face\",\"Kurata Tome face\",\"Fujibayashi Ryou face\",\"Fujimoto Shirou face\",\"Nakamura Rio face\",\"Ishida Maria face\",\"Mikisugi Aikurou face\",\"Samurai Champloo Shinpachi face\",\"Yosano Akiko face\",\"von Einzbern Illyasviel face\",\"Segai Makoto Waltz face\",\"Manabe Nodoka face\",\"Soul Eater Crona face\",\"Kiyoshi Teppei face\",\"Cross Kaien face\",\"Abelfreyja Drossel Charlotte face\",\"Nanatsu no Taizai Merlin face\",\"Fujishima Maiko face\",\"Shakugan no Shana Alastor face\",\"Reest Martin face\",\"Saiga Jouji face\",\"Akame ga Kill Bulat face\",\"Aoyama Mio face\",\"Sugawara Koushi face\",\"Kunimi Yuuma face\",\"Kamisama Hajimemashita Numa no Himemiko face\",\"Mitsui Honoka face\",\"Overlord pandoras actor face\",\"Kuroki Father face\",\"Youjo Senki Existence X face\",\"Magatsuchi Shouta face\",\"Dokuro Chrome face\",\"Serial Experiments Lain Taro face\",\"chabashira sae face\",\"Hiiragizawa Eriol face\",\"Akagi Sena face\",\"Serizawa Layla face\",\"Hoshizora Rin face\",\"Imadori Kyousuke face\",\"InuYasha Kouga face\",\"Sakuragi Yukari face\",\"Shane Sara face\",\"Saiki Kuusuke face\",\"Tokiwa Kyouko face\",\"FLCL Kitsurubami face\",\"Kimi ni Todoke Maru face\",\"Kojima Genta face\",\"Hashima Iori face\",\"leroy jean jacques face\",\"Mashiro Rima face\",\"xxxHOLiC Maru face\",\"Takami You face\",\"Fujii Tsukasa face\",\"Minami Rika face\",\"Akatsuki no Yona su won face\",\"Takarada Maria face\",\"Sahara Makoto face\",\"Vessalius Jack face\",\"Made in Abyss Maruruk face\",\"Miyata Ichirou face\",\"Souma Hatori face\",\"Ooishi Kuraudo face\",\"Gosick The Orphan face\",\"Togami Byakuya face\",\"Kiryuu Moeka face\",\"Maison Ikkoku Souichirou face\",\"Gandor Luck face\",\"robespierre maximilien face\",\"Now and Then Here and There Abelia face\",\"Attenborough Dusty face\",\"Usagi Drop nabe chin face\",\"Guardian of the Sacred Spirit Touya face\",\"Rondo Claire face\",\"The Irresponsible Captain Tylor Noriko face\",\"Lupin the 3rd Lisa face\",\"City Hunter Torakichi face\",\"Ghost in the Shell Stand Alone Complex Ishikawa face\",\"Tomorrows Joe Tonkichi face\",\"Yu Yu Hakusho Ghost Files Genkai face\",\"Saotome Genma face\",\"Asagi Maria face\",\"Claymore Riful face\",\"Van Winkle Rip face\",\"Komatsu Seiji face\",\"Eureka Seven Moondoggie face\",\"Tsuruga Meisai face\",\"Princess Tutu Lilie face\",\"Masaki Katsuhito face\",\"Spice and Wolf Weiss face\",\"Milliome Shammy face\",\"Mikage Souji face\",\"Natsumes Book of Friends Hiiragi face\",\"The Twelve Kingdoms Shushou face\",\"Kaiba Cheki face\",\"Escaflowne Naria face\",\"Kohinata Makie face\",\"Proxy Monad face\",\"Shiden Kai face\",\"Future Boy Conan Talcoth face\",\"Morcerf Fernand face\",\"Jougasaki Akira face\",\"Acquin Benjamin face\",\"The Slayers Zangulus face\",\"Nekozawa Umehito face\",\"Les Miserables Shoujo Cosette Combeferre face\",\"Michiko and Hatchin Gonzalez face\",\"Martini Bianca face\",\"Muromachi Tomoyoshi face\",\"Fujieda Mio face\",\"Rainbow Nishakubou no shichinin Ishihara face\",\"The Mysterious Cities of Gold Pasha face\",\"Otonashi Meru face\",\"Sloane Charlie face\",\"Space Pirate Captain Harlock yattaran face\",\"Nishimura Isami face\",\"Chobits Atashi dake no Hito face\",\"Treasure Island Lily face\",\"Urusei yatsura Sakuranbou face\",\"Yaiden Quent face\",\"Fist of the North Star Juuza face\",\"Tsuda Kotomi face\",\"Kuze Shuuichi face\",\"Haibane renmei Kuramori face\",\"Kaleido Star Jonathan face\",\"Mahler Nathan face\",\"Golden Boy Employee A face\",\"von Stroheim Rudol face\",\"The Melancholy of Haruhi Suzumiya Kyons Sister face\",\"Saku Sakura face\",\"Entryua Rei face\",\"Texhnolyze Kano face\",\"Yojohan shinwa taikei Kaori face\",\"Lamperouge Nunnally face\",\"Mikami Teru face\",\"One Piece Franky face\",\"Lenz Krista face\",\"Naruto Shippuuden Jiraiya face\",\"Takasugi Shinsuke face\",\"Hunter x Hunter Kite face\",\"Kayaba Akihiko face\",\"Zaimokuza Yoshiteru face\",\"Berserk Serpico face\",\"van Astrea Wilhelm face\",\"Kamishiro Rize face\",\"One Punch Man Boros face\",\"Von de Oniyate Andy face\",\"Noragami Rabou face\",\"Houjou Reisuke face\",\"Araragi Karen face\",\"Haruta Kouji face\",\"Littner Leeron face\",\"Fate stay night Lancer face\",\"Kishitani Shinra face\",\"Cifer Ulquiorra face\",\"Rockbell Winry face\",\"Fernandes Jellal face\",\"REMOVE\",\"Durless Angelina face\",\"Kono Subarashii Sekai ni Shukufuku wo Beldia face\",\"Aizawa Miyabi face\",\"Shizuki Hitomi face\",\"Anizawa Meito face\",\"Son Goten face\",\"Kirishima Eijirou face\",\"Darker than Black Kuro no Keiyakusha Havoc face\",\"Seto Hiroko face\",\"Akagi Ritsuko face\",\"Hyoudou Satsuki face\",\"Togashi Yumeha face\",\"Toogaito Masashi face\",\"Darling in the FranXX Ikuno face\",\"Black Lagoon Leigharch face\",\"Sengoku Chihiro face\",\"Nilvalen Feel face\",\"Elfen Lied Number 3 face\",\"Shinomori Aoshi face\",\"Aldini Takumi face\",\"Onodera Nanako face\",\"Naoi Ayato face\",\"High School DxD Ddraig face\",\"the Hornfreak Midvalley face\",\"Tsukuyomi Komoe face\",\"Mushishi Koro face\",\"Crowley III Aleister face\",\"Fujibakama Mii face\",\"Onigawara Tenga face\",\"Furukawa Akio face\",\"Shima Renzou face\",\"jelavic irina face\",\"Ishida Miyako face\",\"Sanageyama Uzu face\",\"Sakonshougen Nagamitsu face\",\"Miyazawa Kenji face\",\"Matou Sakura face\",\"Ouma Mana face\",\"Suzuki Jun face\",\"Soul Eater Excalibur face\",\"Takao Kazunari face\",\"Kiryuu Ichiru face\",\"Bougainvillea Dietfried face\",\"Nanatsu no Taizai Elaine face\",\"Gotou Ryuuzen face\",\"Shakugan no Shana Marchosias face\",\"Reichwein Julius face\",\"Karanomori Shion face\",\"Akame ga Kill Kurome face\",\"Katsuragi Mari face\",\"Tanaka Ryuunosuke face\",\"Kamisato Saki face\",\"Kamisama Hajimemashita Kotetsu face\",\"Watanabe Mari face\",\"Overlord Shizu Delta face\",\"Kuroki Mother face\",\"Sioux Anson face\",\"Takiya Makoto face\",\"Sasagawa Ryouhei face\",\"Serial Experiments Lain Detective face\",\"kouenji rokusuke face\",\"Li Meiling face\",\"Kousaka Daisuke face\",\"Saotome Junko face\",\"Koizumi Hanayo face\",\"Hanai Haruki face\",\"InuYasha Naraku face\",\"Kazami Tomohiko face\",\"Kumagami Takehito face\",\"Saiki Kusuo no psi nan Anpu face\",\"Full Metal Panic AL face\",\"Nandaba Kamon face\",\"Sanada Tooru face\",\"Kuroba Kaito face\",\"Satomi Azusa face\",\"lee seung gil face\",\"Shugo Chara Suu face\",\"xxxHOLiC zashiki warashi face\",\"Koshio Karako face\",\"Natori Sayaka face\",\"Igou Hisashi face\",\"Akatsuki no Yona ao squirrel face\",\"Ogata Hiroaki face\",\"Funai Jouji face\",\"Pandora Hearts Will of the Abyss face\",\"Made in Abyss Jiruo face\",\"Mashiba Ryo face\",\"Souma Kisa face\",\"Houjou Satoshi face\",\"Gosick Leviathan face\",\"Ishimaru Kiyotaka face\",\"Tennouji Yuugo face\",\"Mitaka Shun face\",\"Baccano Ennis face\",\"The Rose of Versailles saint juste face\",\"Now and Then Here and There Kazam face\",\"von Mariendorf Hildegard face\",\"Usagi Drop mi chan face\",\"Guardian of the Sacred Spirit Sagum face\",\"Hoshino Gorou face\",\"Katori Harold face\",\"Lupin the 3rd Gantetsu face\",\"City Hunter Takuya face\",\"Ghost in the Shell Stand Alone Complex Aoi face\",\"Tomorrows Joe Sachi face\",\"Yu Yu Hakusho Ghost Files Jin face\",\"Kuno Tatewaki face\",\"Tino Alzac face\",\"Claymore Jean face\",\"Hellsing Ultimate Shousa face\",\"Hino Yuusaku face\",\"Beams Ray face\",\"Maniwa Pengin face\",\"Princess Tutu Femio face\",\"Masaki Nobuyuki face\",\"Remerio Hans face\",\"LaSalle Claudia face\",\"Revolutionary Girl Utena Chuchu face\",\"Fujiwara Touko face\",\"Haku Sanshi face\",\"Kaiba Kichi face\",\"Escaflowne Eriya face\",\"Akimoto Shoko face\",\"Proxy Kazkis face\",\"Zabi Garma face\",\"Future Boy Conan Tera face\",\"danglars eugenie face\",\"Kusano Yuu face\",\"Nobodys Boy Remi remi face\",\"El Di Saillune Philionel face\",\"Houshakuji Renge face\",\"Les Miserables Shoujo Cosette Alan face\",\"Michiko and Hatchin Marco face\",\"Romeos Blue Skies Pietro face\",\"Oosawa Roubou face\",\"Kubota Sanae face\",\"Koike Setsuko face\",\"The Mysterious Cities of Gold Myuca face\",\"Sekiutsu Tarou face\",\"Pye Josie face\",\"Space Pirate Captain Harlock ooyama mayu face\",\"Touch Kusaka face\",\"Shinbo Hiromu face\",\"Treasure Island Redruth face\",\"Urusei yatsura Satoshi face\",\"Lebowski Hubb face\",\"Fist of the North Star Shuu face\",\"Dejima Sayaka face\",\"Hayama Mizuki face\",\"Haibane renmei Hyouko face\",\"Oswald Sophie face\",\"Blood Plus David face\",\"Golden Boy Norikos Father face\",\"JoJos Bizarre Adventure Wamuu face\",\"The Melancholy of Haruhi Suzumiya Shamisen face\",\"Etou Kouzou face\",\"tlamh borgh ybder laimsirh face\",\"Texhnolyze Haru face\",\"Yojohan shinwa taikei Fortune Teller face\",\"li Britannia Cornelia face\",\"Death Note Rem face\",\"Trafalgar Law face\",\"Shingeki no Kyojin zoe hange face\",\"Namikaze Minato face\",\"Gintama Kamui face\",\"Freecss Ging face\",\"Mills Andrew Gilbert face\",\"Hayama Hayato face\",\"Nosferatu Zodd face\",\"romanee conti betelguese face\",\"Kirishima Ayato face\",\"speed o sound sonic face\",\"Cowboy Bebop Mad Pierrot face\",\"Noragami Kuraha face\",\"Ikusaba Marco face\",\"Araragi Tsukihi face\",\"Koigakubo Yuri face\",\"Adai Rossiu face\",\"Matou Sakura face\",\"Brezhnev Semyon face\",\"Urahara Kisuke face\",\"Fullmetal Alchemist Brotherhood Envy face\",\"Fairy Tail charles face\",\"REMOVE\",\"Kuroshitsuji mey rin face\",\"Kono Subarashii Sekai ni Shukufuku wo Arakuremono face\",\"Danma Ryuuji face\",\"Mahou Shoujo Madoka Magica Walpurgis Night face\",\"Tamura Hiyori face\",\"Dragon Ball Z android 18 face\",\"Tokoyami Fumikage face\",\"Kurasawa Gai face\",\"Kashiwagi Nao face\",\"Suzuhara Touji face\",\"Hanazono Sakura face\",\"Kannagi Kazari face\",\"Kugayama Muneyoshi face\",\"Darling in the FranXX Futoshi face\",\"chang bai ji shin face\",\"Sakurasou no Pet na Kanojo maid chan face\",\"No Game No Life Former King face\",\"Elfen Lied Kanae face\",\"Makimachi Misao face\",\"Hayama Akira face\",\"Ringheart Claude face\",\"Angel Beats Noda face\",\"High School DxD Raynare face\",\"the Beast Zazie face\",\"Himegami Aisa face\",\"Mushishi Amane face\",\"D Gray man Millenium Earl face\",\"Kannazuki Kyouhei face\",\"Mezato Ichi face\",\"Furukawa Sanae face\",\"Suguro Ryuuji face\",\"Ansatsu Kyoushitsu koro sensei face\",\"Mashiba Satoshi face\",\"Kiryuuin Ragyou face\",\"Samurai Champloo Bundai face\",\"Montgomery Lucy Maud face\",\"Fate Zero Lancer face\",\"Kido Kenji face\",\"Tainaka Satoshi face\",\"Soul Eater black star face\",\"Momoi Satsuki face\",\"Kain Akatsuki face\",\"Brown Erica face\",\"Nanatsu no Taizai Gilthunder face\",\"Inaba Brother face\",\"Satou Keisaku face\",\"Monster Roberto face\",\"Psycho Pass Dominator face\",\"Akame ga Kill Sheele face\",\"Kodama Ichirou face\",\"Yamaguchi Tadashi face\",\"Hanawa Ryouko face\",\"Kamisama Hajimemashita Sukuna face\",\"Yoshida Mikihiko face\",\"Overlord Clementine face\",\"Watashi ga Motenai no wa Dou Kangaetemo Omaera ga Warui Kosaka face\",\"Weiss Matheus Johann face\",\"Kobayashi san Chi no Maid Dragon Bandit Girl face\",\"Katekyo Hitman Reborn Fran face\",\"Serial Experiments Lain JJ face\",\"sudou ken face\",\"Reed Clow face\",\"Kousaka Yoshino face\",\"Shinoda Miu face\",\"REMOVE\",\"Ichijou Karen face\",\"InuYasha Rin face\",\"Mikami Reiko face\",\"Charlotte Maedomari face\",\"Toritsuka Reita face\",\"Kazama Shinji face\",\"FLCL Miyu Miyu face\",\"Jounouchi Souichi face\",\"Akai Shuuichi face\",\"Mizuhara Echika face\",\"ji guang hong face\",\"Shugo Chara Ran face\",\"xxxHOLiC ame warashi face\",\"makina flugel kiwako face\",\"Takagi Shinta face\",\"Shidou Koichi face\",\"Akatsuki no Yona ao dragon face\",\"Sawara Takenori face\",\"Gyakkyou Burai Kaiji Ultimate Survivor Kitami face\",\"Pandora Hearts Cheshire Cat face\",\"Made in Abyss Kiwi face\",\"Date Eiji face\",\"Souma Akito face\",\"Akasaka Mamoru face\",\"Gosick Ambrose face\",\"Asahina Aoi face\",\"Tennouji Nae face\",\"Yagami Ibuki face\",\"meyer czeslaw face\",\"The Rose of Versailles grand mere face\",\"Now and Then Here and There lala ru face\",\"yang wen li face\",\"Usagi Drop kawachi kenji face\",\"Guardian of the Sacred Spirit Jin face\",\"Gangaragash Gigalt face\",\"Hanner Robert J face\",\"Lupin the 3rd Pycal face\",\"Himuro Maki face\",\"Ghost in the Shell Stand Alone Complex Pazu face\",\"Hayashi Noriko face\",\"Yu Yu Hakusho Ghost Files Koenma face\",\"Tendou Kasumi face\",\"Carabel Ladd face\",\"Claymore Helen face\",\"Hellsing Ultimate schrodinger face\",\"Kimagure Orange Road Ushiko face\",\"Eureka Seven Stoner face\",\"Kiguchi Zanki face\",\"Princess Tutu neko sensei face\",\"Tenchi Muyo ryo ohki face\",\"Tarantino Jacob face\",\"Kridanik Vrlitwhai face\",\"Saionji Kyouichi face\",\"Natsumes Book of Friends Tsubame face\",\"The Twelve Kingdoms Aozaru face\",\"Kaiba hyo hyo face\",\"Sara Aston Millerna face\",\"Saeki Zenzo face\",\"Ergo Proxy mayer re l face\",\"Sune Lalah face\",\"Future Boy Conan Gutch face\",\"Gankutsuou tebelin haydee face\",\"Satou Shizue face\",\"Nobodys Boy Remi joli coeur face\",\"The Slayers Vrumugun face\",\"Kasanoda Ritsu face\",\"Les Miserables Shoujo Cosette Courfeyrac face\",\"Michiko and Hatchin lima pepe face\",\"Rossi Marchelo face\",\"Mononoke ruri hime face\",\"Inada Hirono face\",\"Yokosuka Megumi face\",\"The Mysterious Cities of Gold Kraka face\",\"Itoshiki Rin face\",\"Allan Minister face\",\"Space Pirate Captain Harlock elza face\",\"Matsudaira Koutarou face\",\"Chobits Zima face\",\"Treasure Island Abraham face\",\"Urusei yatsura Ten face\",\"Wolfs Rain Jagara face\",\"Fist of the North Star Shin face\",\"Igarashi Kaede face\",\"Tsutsumi Kyosuke face\",\"Haibane renmei Midori face\",\"Heart Anna face\",\"Blood Plus fein ong karl face\",\"REMOVE\",\"JoJos Bizarre Adventure Kars face\",\"The Melancholy of Haruhi Suzumiya Okabe face\",\"Auclair Charles face\",\"atosryua syun atos febdash lyuf raika febdac srumh face\",\"Kimata Motoharu face\",\"Yojohan shinwa taikei Aijima face\"]"
   ]
  },
  {
   "cell_type": "code",
   "execution_count": 21,
   "metadata": {},
   "outputs": [
    {
     "data": {
      "text/plain": [
       "1840"
      ]
     },
     "execution_count": 21,
     "metadata": {},
     "output_type": "execute_result"
    }
   ],
   "source": [
    "len(Anime_Faces_List)"
   ]
  },
  {
   "cell_type": "markdown",
   "metadata": {},
   "source": [
    "# Good Download:"
   ]
  },
  {
   "cell_type": "code",
   "execution_count": 22,
   "metadata": {},
   "outputs": [],
   "source": [
    "anime_faces_list_1 = Anime_Faces_List[:184] #good download\n",
    "anime_faces_list_3 = Anime_Faces_List[184*2:184*3] #X - good download\n",
    "anime_faces_list_10 = Anime_Faces_List[184*9:184*10] #X - good download"
   ]
  },
  {
   "cell_type": "markdown",
   "metadata": {},
   "source": [
    "# Bad Download:"
   ]
  },
  {
   "cell_type": "code",
   "execution_count": 23,
   "metadata": {},
   "outputs": [],
   "source": [
    "anime_faces_list_2 = Anime_Faces_List[184:184*2] #X(has duplicates)-incomplete image download(y) aka bad download Y\n",
    "anime_faces_list_4 = Anime_Faces_List[184*3:184*4] #incomplete image download Y\n",
    "anime_faces_list_5 = Anime_Faces_List[184*4:184*5] #X - bad download Y\n",
    "anime_faces_list_6 = Anime_Faces_List[184*5:184*6] #bad download Y\n",
    "anime_faces_list_7 = Anime_Faces_List[184*6:184*7] #bad download Y\n",
    "anime_faces_list_8 = Anime_Faces_List[184*7:184*8] #bad download Y\n",
    "anime_faces_list_9 = Anime_Faces_List[184*8:184*9] #bad download Y"
   ]
  },
  {
   "cell_type": "markdown",
   "metadata": {},
   "source": [
    "### Checking for duplicates in list:"
   ]
  },
  {
   "cell_type": "code",
   "execution_count": 24,
   "metadata": {},
   "outputs": [
    {
     "data": {
      "text/plain": [
       "True"
      ]
     },
     "execution_count": 24,
     "metadata": {},
     "output_type": "execute_result"
    }
   ],
   "source": [
    "len(anime_faces_list_10) != len(set(anime_faces_list_10))"
   ]
  },
  {
   "cell_type": "markdown",
   "metadata": {},
   "source": [
    "### Removing duplicates from list:"
   ]
  },
  {
   "cell_type": "code",
   "execution_count": 25,
   "metadata": {},
   "outputs": [
    {
     "name": "stdout",
     "output_type": "stream",
     "text": [
      "183\n",
      "183\n",
      "183\n",
      "182\n"
     ]
    }
   ],
   "source": [
    "anime_faces_list_2 = list(dict.fromkeys(anime_faces_list_2))\n",
    "anime_faces_list_3 = list(dict.fromkeys(anime_faces_list_3))\n",
    "anime_faces_list_5 = list(dict.fromkeys(anime_faces_list_5))\n",
    "anime_faces_list_10 = list(dict.fromkeys(anime_faces_list_10))\n",
    "print(len(anime_faces_list_2))\n",
    "print(len(anime_faces_list_3))\n",
    "print(len(anime_faces_list_5))\n",
    "print(len(anime_faces_list_10))"
   ]
  },
  {
   "cell_type": "code",
   "execution_count": 26,
   "metadata": {},
   "outputs": [
    {
     "data": {
      "text/plain": [
       "1840"
      ]
     },
     "execution_count": 26,
     "metadata": {},
     "output_type": "execute_result"
    }
   ],
   "source": [
    "len(Anime_Faces_List)"
   ]
  },
  {
   "cell_type": "code",
   "execution_count": 27,
   "metadata": {},
   "outputs": [],
   "source": [
    "images_to_download_list = [\"Lamperouge Lelouch face\",\"Lawliet L face\"]"
   ]
  },
  {
   "cell_type": "code",
   "execution_count": 33,
   "metadata": {},
   "outputs": [],
   "source": [
    "def make_image_dataset(image_name, dest_folder = r\"./anime_faces/experiment/\", downloads_folder= r\"/home/jupyter/Downloads/\"):    \n",
    "    #images_to_download = input(\"Which images do you want to download? \")\n",
    "    #dest_folder = input(\"Where do you want the downloaded images? \")\n",
    "    #downloads_folder = input(\"Enter the path to your downloads folder. \")\n",
    "    os.mkdir(os.path.sep.join([dest_folder, image_name]))\n",
    "    dest_folder_new = os.path.sep.join([dest_folder, image_name])\n",
    "        \n",
    "    options = webdriver.ChromeOptions()\n",
    "    #options.add_argument('headless')\n",
    "    #options.add_argument('window-size=1200x600')  \n",
    "    display = Display(visible=0, size=(1200, 600))\n",
    "    display.start()\n",
    "        \n",
    "    driver = webdriver.Chrome(executable_path = \"/home/jupyter/chromedriver.exe\", options=options)\n",
    "    \n",
    "    driver.get(\"https://www.google.com/search?tbm=isch&q=\" + image_name)\n",
    "    \n",
    "    urls = driver.execute_script(r'''urls = Array.from(document.querySelectorAll('.rg_di .rg_meta')).map(el=>JSON.parse(el.textContent).ou);\n",
    "    window.open('data:text/csv;charset=utf-8,' + escape(urls.join('\\n')));''')\n",
    "    time.sleep(4)\n",
    "    \n",
    "    driver.quit()\n",
    "    display.stop()\n",
    "    \n",
    "    #list_of_files = glob.glob(r\"C:\\Users\\kmoudgalya\\Downloads\\*\") # * means all if need specific format then *.csv\n",
    "    list_of_files = glob.glob(os.path.sep.join([downloads_folder, \"/*\"]))\n",
    "    latest_file = max(list_of_files, key=lambda x: os.stat(x).st_mtime)\n",
    "    \n",
    "    rows = open(latest_file).read().strip().split(\"\\n\")\n",
    "    total = 0\n",
    "    \n",
    "    \n",
    "    # loop the URLs\n",
    "    for url in rows:\n",
    "        try:\n",
    "            # try to download the image\n",
    "            r = requests.get(url, timeout=10)\n",
    "\n",
    "            # save the image to disk\n",
    "            p = os.path.sep.join([dest_folder_new, \"{}.jpg\".format(str(total).zfill(4))])\n",
    "            f = open(p, \"wb\")\n",
    "            f.write(r.content)\n",
    "            f.close()\n",
    "\n",
    "            # update the counter\n",
    "            print(\"[INFO] downloaded: {}\".format(p))\n",
    "            total += 1\n",
    "\n",
    "        # handle if any exceptions are thrown during the download process\n",
    "        except:\n",
    "            print(\"[INFO] error downloading {}...skipping\".format(p))\n",
    "            \n",
    "    \n",
    "    \n",
    "    # loop over the image paths we just downloaded\n",
    "    for imagePath in paths.list_images(dest_folder_new):\n",
    "        # initialize if the image should be deleted or not\n",
    "        delete = False\n",
    "\n",
    "        # try to load the image\n",
    "        try:\n",
    "            image = cv2.imread(imagePath)\n",
    "\n",
    "            # if the image is `None` then we could not properly load it\n",
    "            # from disk, so delete it\n",
    "            if image is None:\n",
    "                delete = True\n",
    "\n",
    "        # if OpenCV cannot load the image then the image is likely\n",
    "        # corrupt so we should delete it\n",
    "        except:\n",
    "            print(\"Except\")\n",
    "            delete = True\n",
    "\n",
    "        # check to see if the image should be deleted\n",
    "        if delete:\n",
    "            print(\"[INFO] deleting {}\".format(imagePath))\n",
    "            os.remove(imagePath)\n",
    "    print(\"Iteration done.\")"
   ]
  },
  {
   "cell_type": "markdown",
   "metadata": {},
   "source": [
    "# Removed Multithreading fro this nb, since it is implemented in other nbs and mostly coz it doesnt work here."
   ]
  },
  {
   "cell_type": "markdown",
   "metadata": {},
   "source": [
    "### We get a Webdriver unavailable error when doing this for the split up anime lists. Multi-processing does not lead to this error, so it turned out to be handy after all."
   ]
  },
  {
   "cell_type": "markdown",
   "metadata": {},
   "source": [
    "### 24.05s (multi-threaded) vs 73.51s for the script to download images. I'd say this is a no brainer. 3x Improvement ftw! This is with 2 separate image targets (naruto and cowboy bepop)."
   ]
  },
  {
   "cell_type": "markdown",
   "metadata": {},
   "source": [
    "# Multiprocessing"
   ]
  },
  {
   "cell_type": "code",
   "execution_count": 29,
   "metadata": {},
   "outputs": [],
   "source": [
    "# start_time = time.time()\n",
    "# x = Pool(20)\n",
    "# records = x.map(make_image_dataset,anime_faces_list_2)\n",
    "# x.terminate()\n",
    "# x.join()\n",
    "# print('Entire job took:',time.time() - start_time)"
   ]
  },
  {
   "cell_type": "code",
   "execution_count": 30,
   "metadata": {},
   "outputs": [],
   "source": [
    "#N = pool.map(partial(func, b=second_arg), a_args)"
   ]
  },
  {
   "cell_type": "code",
   "execution_count": 34,
   "metadata": {},
   "outputs": [
    {
     "name": "stdout",
     "output_type": "stream",
     "text": [
      "rm: cannot remove '/home/jupyter/Downloads/*': No such file or directory\n"
     ]
    }
   ],
   "source": [
    "!rm /home/jupyter/Downloads/*\n",
    "!rm -r ./anime_faces/experiment\n",
    "!mkdir ./anime_faces/experiment"
   ]
  },
  {
   "cell_type": "code",
   "execution_count": 37,
   "metadata": {},
   "outputs": [
    {
     "ename": "ValueError",
     "evalue": "Pool not running",
     "output_type": "error",
     "traceback": [
      "\u001b[0;31m---------------------------------------------------------------------------\u001b[0m",
      "\u001b[0;31mValueError\u001b[0m                                Traceback (most recent call last)",
      "\u001b[0;32m<ipython-input-37-5e8389a03cb4>\u001b[0m in \u001b[0;36m<module>\u001b[0;34m\u001b[0m\n\u001b[1;32m      1\u001b[0m \u001b[0mtime1\u001b[0m \u001b[0;34m=\u001b[0m \u001b[0mmlc\u001b[0m\u001b[0;34m.\u001b[0m\u001b[0mtime\u001b[0m\u001b[0;34m.\u001b[0m\u001b[0mTimer\u001b[0m\u001b[0;34m(\u001b[0m\u001b[0;34m)\u001b[0m\u001b[0;34m\u001b[0m\u001b[0;34m\u001b[0m\u001b[0m\n\u001b[1;32m      2\u001b[0m \u001b[0my\u001b[0m \u001b[0;34m=\u001b[0m \u001b[0mmlc\u001b[0m\u001b[0;34m.\u001b[0m\u001b[0mSuperPool\u001b[0m\u001b[0;34m(\u001b[0m\u001b[0;36m20\u001b[0m\u001b[0;34m)\u001b[0m\u001b[0;34m\u001b[0m\u001b[0;34m\u001b[0m\u001b[0m\n\u001b[0;32m----> 3\u001b[0;31m \u001b[0mrecords\u001b[0m \u001b[0;34m=\u001b[0m \u001b[0my\u001b[0m\u001b[0;34m.\u001b[0m\u001b[0mmap\u001b[0m\u001b[0;34m(\u001b[0m\u001b[0mmake_image_dataset\u001b[0m\u001b[0;34m,\u001b[0m\u001b[0mimages_to_download_list\u001b[0m\u001b[0;34m)\u001b[0m\u001b[0;34m\u001b[0m\u001b[0;34m\u001b[0m\u001b[0m\n\u001b[0m\u001b[1;32m      4\u001b[0m \u001b[0;31m#x.exit()\u001b[0m\u001b[0;34m\u001b[0m\u001b[0;34m\u001b[0m\u001b[0;34m\u001b[0m\u001b[0m\n\u001b[1;32m      5\u001b[0m \u001b[0mprint\u001b[0m\u001b[0;34m(\u001b[0m\u001b[0;34m'Entire job took:'\u001b[0m\u001b[0;34m,\u001b[0m\u001b[0mtime1\u001b[0m\u001b[0;34m.\u001b[0m\u001b[0msince\u001b[0m\u001b[0;34m(\u001b[0m\u001b[0;36m0\u001b[0m\u001b[0;34m)\u001b[0m\u001b[0;34m)\u001b[0m\u001b[0;34m\u001b[0m\u001b[0;34m\u001b[0m\u001b[0m\n",
      "\u001b[0;32m/opt/anaconda3/lib/python3.7/site-packages/mlcrate/__init__.py\u001b[0m in \u001b[0;36mmap\u001b[0;34m(self, func, array, chunksize, description)\u001b[0m\n\u001b[1;32m    157\u001b[0m \u001b[0;34m\u001b[0m\u001b[0m\n\u001b[1;32m    158\u001b[0m         \u001b[0mdesc\u001b[0m \u001b[0;34m=\u001b[0m \u001b[0;34m'[mlcrate] {} CPUs{}'\u001b[0m\u001b[0;34m.\u001b[0m\u001b[0mformat\u001b[0m\u001b[0;34m(\u001b[0m\u001b[0mself\u001b[0m\u001b[0;34m.\u001b[0m\u001b[0mn_cpu\u001b[0m\u001b[0;34m,\u001b[0m \u001b[0;34m' - {}'\u001b[0m\u001b[0;34m.\u001b[0m\u001b[0mformat\u001b[0m\u001b[0;34m(\u001b[0m\u001b[0mdescription\u001b[0m\u001b[0;34m)\u001b[0m \u001b[0;32mif\u001b[0m \u001b[0mdescription\u001b[0m \u001b[0;32melse\u001b[0m \u001b[0;34m''\u001b[0m\u001b[0;34m)\u001b[0m\u001b[0;34m\u001b[0m\u001b[0;34m\u001b[0m\u001b[0m\n\u001b[0;32m--> 159\u001b[0;31m         \u001b[0;32mfor\u001b[0m \u001b[0mout\u001b[0m \u001b[0;32min\u001b[0m \u001b[0mself\u001b[0m\u001b[0;34m.\u001b[0m\u001b[0mtqdm\u001b[0m\u001b[0;34m.\u001b[0m\u001b[0mtqdm\u001b[0m\u001b[0;34m(\u001b[0m\u001b[0mself\u001b[0m\u001b[0;34m.\u001b[0m\u001b[0mpool\u001b[0m\u001b[0;34m.\u001b[0m\u001b[0muimap\u001b[0m\u001b[0;34m(\u001b[0m\u001b[0mfunc_tracked\u001b[0m\u001b[0;34m,\u001b[0m \u001b[0marray_tracked\u001b[0m\u001b[0;34m,\u001b[0m \u001b[0mchunksize\u001b[0m\u001b[0;34m=\u001b[0m\u001b[0mchunksize\u001b[0m\u001b[0;34m)\u001b[0m\u001b[0;34m,\u001b[0m \u001b[0mtotal\u001b[0m\u001b[0;34m=\u001b[0m\u001b[0mlen\u001b[0m\u001b[0;34m(\u001b[0m\u001b[0marray\u001b[0m\u001b[0;34m)\u001b[0m\u001b[0;34m,\u001b[0m \u001b[0mdesc\u001b[0m\u001b[0;34m=\u001b[0m\u001b[0mdesc\u001b[0m\u001b[0;34m,\u001b[0m \u001b[0msmoothing\u001b[0m\u001b[0;34m=\u001b[0m\u001b[0;36m0.05\u001b[0m\u001b[0;34m)\u001b[0m\u001b[0;34m:\u001b[0m\u001b[0;34m\u001b[0m\u001b[0;34m\u001b[0m\u001b[0m\n\u001b[0m\u001b[1;32m    160\u001b[0m             \u001b[0mres\u001b[0m\u001b[0;34m.\u001b[0m\u001b[0mappend\u001b[0m\u001b[0;34m(\u001b[0m\u001b[0mout\u001b[0m\u001b[0;34m)\u001b[0m\u001b[0;34m\u001b[0m\u001b[0;34m\u001b[0m\u001b[0m\n\u001b[1;32m    161\u001b[0m \u001b[0;34m\u001b[0m\u001b[0m\n",
      "\u001b[0;32m/opt/anaconda3/lib/python3.7/site-packages/pathos/multiprocessing.py\u001b[0m in \u001b[0;36muimap\u001b[0;34m(self, f, *args, **kwds)\u001b[0m\n\u001b[1;32m    145\u001b[0m         \u001b[0mAbstractWorkerPool\u001b[0m\u001b[0;34m.\u001b[0m\u001b[0m_AbstractWorkerPool__imap\u001b[0m\u001b[0;34m(\u001b[0m\u001b[0mself\u001b[0m\u001b[0;34m,\u001b[0m \u001b[0mf\u001b[0m\u001b[0;34m,\u001b[0m \u001b[0;34m*\u001b[0m\u001b[0margs\u001b[0m\u001b[0;34m,\u001b[0m \u001b[0;34m**\u001b[0m\u001b[0mkwds\u001b[0m\u001b[0;34m)\u001b[0m\u001b[0;34m\u001b[0m\u001b[0;34m\u001b[0m\u001b[0m\n\u001b[1;32m    146\u001b[0m         \u001b[0m_pool\u001b[0m \u001b[0;34m=\u001b[0m \u001b[0mself\u001b[0m\u001b[0;34m.\u001b[0m\u001b[0m_serve\u001b[0m\u001b[0;34m(\u001b[0m\u001b[0;34m)\u001b[0m\u001b[0;34m\u001b[0m\u001b[0;34m\u001b[0m\u001b[0m\n\u001b[0;32m--> 147\u001b[0;31m         \u001b[0;32mreturn\u001b[0m \u001b[0m_pool\u001b[0m\u001b[0;34m.\u001b[0m\u001b[0mimap_unordered\u001b[0m\u001b[0;34m(\u001b[0m\u001b[0mstar\u001b[0m\u001b[0;34m(\u001b[0m\u001b[0mf\u001b[0m\u001b[0;34m)\u001b[0m\u001b[0;34m,\u001b[0m \u001b[0mzip\u001b[0m\u001b[0;34m(\u001b[0m\u001b[0;34m*\u001b[0m\u001b[0margs\u001b[0m\u001b[0;34m)\u001b[0m\u001b[0;34m)\u001b[0m \u001b[0;31m# chunksize\u001b[0m\u001b[0;34m\u001b[0m\u001b[0;34m\u001b[0m\u001b[0m\n\u001b[0m\u001b[1;32m    148\u001b[0m     \u001b[0muimap\u001b[0m\u001b[0;34m.\u001b[0m\u001b[0m__doc__\u001b[0m \u001b[0;34m=\u001b[0m \u001b[0mAbstractWorkerPool\u001b[0m\u001b[0;34m.\u001b[0m\u001b[0muimap\u001b[0m\u001b[0;34m.\u001b[0m\u001b[0m__doc__\u001b[0m\u001b[0;34m\u001b[0m\u001b[0;34m\u001b[0m\u001b[0m\n\u001b[1;32m    149\u001b[0m     \u001b[0;32mdef\u001b[0m \u001b[0mamap\u001b[0m\u001b[0;34m(\u001b[0m\u001b[0mself\u001b[0m\u001b[0;34m,\u001b[0m \u001b[0mf\u001b[0m\u001b[0;34m,\u001b[0m \u001b[0;34m*\u001b[0m\u001b[0margs\u001b[0m\u001b[0;34m,\u001b[0m \u001b[0;34m**\u001b[0m\u001b[0mkwds\u001b[0m\u001b[0;34m)\u001b[0m\u001b[0;34m:\u001b[0m \u001b[0;31m# register a callback ?\u001b[0m\u001b[0;34m\u001b[0m\u001b[0;34m\u001b[0m\u001b[0m\n",
      "\u001b[0;32m/opt/anaconda3/lib/python3.7/site-packages/multiprocess/pool.py\u001b[0m in \u001b[0;36mimap_unordered\u001b[0;34m(self, func, iterable, chunksize)\u001b[0m\n\u001b[1;32m    330\u001b[0m         '''\n\u001b[1;32m    331\u001b[0m         \u001b[0;32mif\u001b[0m \u001b[0mself\u001b[0m\u001b[0;34m.\u001b[0m\u001b[0m_state\u001b[0m \u001b[0;34m!=\u001b[0m \u001b[0mRUN\u001b[0m\u001b[0;34m:\u001b[0m\u001b[0;34m\u001b[0m\u001b[0;34m\u001b[0m\u001b[0m\n\u001b[0;32m--> 332\u001b[0;31m             \u001b[0;32mraise\u001b[0m \u001b[0mValueError\u001b[0m\u001b[0;34m(\u001b[0m\u001b[0;34m\"Pool not running\"\u001b[0m\u001b[0;34m)\u001b[0m\u001b[0;34m\u001b[0m\u001b[0;34m\u001b[0m\u001b[0m\n\u001b[0m\u001b[1;32m    333\u001b[0m         \u001b[0;32mif\u001b[0m \u001b[0mchunksize\u001b[0m \u001b[0;34m==\u001b[0m \u001b[0;36m1\u001b[0m\u001b[0;34m:\u001b[0m\u001b[0;34m\u001b[0m\u001b[0;34m\u001b[0m\u001b[0m\n\u001b[1;32m    334\u001b[0m             \u001b[0mresult\u001b[0m \u001b[0;34m=\u001b[0m \u001b[0mIMapUnorderedIterator\u001b[0m\u001b[0;34m(\u001b[0m\u001b[0mself\u001b[0m\u001b[0;34m.\u001b[0m\u001b[0m_cache\u001b[0m\u001b[0;34m)\u001b[0m\u001b[0;34m\u001b[0m\u001b[0;34m\u001b[0m\u001b[0m\n",
      "\u001b[0;31mValueError\u001b[0m: Pool not running"
     ]
    }
   ],
   "source": [
    "time1 = mlc.time.Timer()\n",
    "y = mlc.SuperPool(20)\n",
    "records = y.map(make_image_dataset,images_to_download_list)\n",
    "#x.exit()\n",
    "print('Entire job took:',time1.since(0))"
   ]
  },
  {
   "cell_type": "markdown",
   "metadata": {},
   "source": [
    "### Consistently getting above error."
   ]
  },
  {
   "cell_type": "markdown",
   "metadata": {},
   "source": [
    "### When Pool = 5, 31s\n",
    "### When Pool = 10, 27s \n",
    "### When Pool = 20, 26s"
   ]
  },
  {
   "cell_type": "markdown",
   "metadata": {},
   "source": [
    "### 100x100 images (10000) take around 6-7 hours to be downloaded. Without Multithreading ofc."
   ]
  },
  {
   "cell_type": "code",
   "execution_count": null,
   "metadata": {},
   "outputs": [],
   "source": []
  }
 ],
 "metadata": {
  "kernelspec": {
   "display_name": "Python 3",
   "language": "python",
   "name": "python3"
  },
  "language_info": {
   "codemirror_mode": {
    "name": "ipython",
    "version": 3
   },
   "file_extension": ".py",
   "mimetype": "text/x-python",
   "name": "python",
   "nbconvert_exporter": "python",
   "pygments_lexer": "ipython3",
   "version": "3.7.3"
  }
 },
 "nbformat": 4,
 "nbformat_minor": 2
}
