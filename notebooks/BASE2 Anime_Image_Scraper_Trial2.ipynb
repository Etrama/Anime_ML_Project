{
 "cells": [
  {
   "cell_type": "code",
   "execution_count": 2,
   "metadata": {},
   "outputs": [],
   "source": [
    "import ctypes"
   ]
  },
  {
   "cell_type": "markdown",
   "metadata": {},
   "source": [
    "### Displaying a pop-up box to make sure Ad-Block is disabled:"
   ]
  },
  {
   "cell_type": "code",
   "execution_count": 3,
   "metadata": {},
   "outputs": [
    {
     "data": {
      "text/plain": [
       "1"
      ]
     },
     "execution_count": 3,
     "metadata": {},
     "output_type": "execute_result"
    }
   ],
   "source": [
    "ctypes.windll.user32.MessageBoxW(0, \"Please disable adblock extensions to use the Javascript magic embedded in this code.\", \"Disable Ad-Block\", 1)"
   ]
  },
  {
   "cell_type": "markdown",
   "metadata": {},
   "source": [
    "### To enable it back at the end:"
   ]
  },
  {
   "cell_type": "code",
   "execution_count": 5,
   "metadata": {},
   "outputs": [
    {
     "data": {
      "text/plain": [
       "1"
      ]
     },
     "execution_count": 5,
     "metadata": {},
     "output_type": "execute_result"
    }
   ],
   "source": [
    "ctypes.windll.user32.MessageBoxW(0, \"Remember to enable Ad-Block. The script wizard thanks you. ;)\", \"Enable Ad-Block\", 1)"
   ]
  },
  {
   "cell_type": "markdown",
   "metadata": {},
   "source": [
    "### Javascript to download the URLs to a txt file:\n",
    "javascript:document.body.innerHTML = `<a href=\"data:text/csv;charset=utf-8,${escape(Array.from(document.querySelectorAll('.rg_di .rg_meta')).map(el=>JSON.parse(el.textContent).ou).join('\\n'))}\" download=\"Images.txt\">download urls</a>`;\n"
   ]
  },
  {
   "cell_type": "markdown",
   "metadata": {},
   "source": [
    "### To get rid of the Chromedriver not in PATH error, just copy the chromedriver.exe executable into the Python/Scripts folder.\n",
    "https://stackoverflow.com/questions/40555930/selenium-chromedriver-executable-needs-to-be-in-path/40556092"
   ]
  },
  {
   "cell_type": "code",
   "execution_count": 10,
   "metadata": {},
   "outputs": [
    {
     "name": "stdout",
     "output_type": "stream",
     "text": [
      "selenium==3.14.1\n"
     ]
    },
    {
     "name": "stderr",
     "output_type": "stream",
     "text": [
      "You are using pip version 9.0.1, however version 19.1.1 is available.\n",
      "You should consider upgrading via the 'python -m pip install --upgrade pip' command.\n"
     ]
    }
   ],
   "source": [
    "#!pip freeze | findstr selenium"
   ]
  },
  {
   "cell_type": "code",
   "execution_count": 89,
   "metadata": {},
   "outputs": [],
   "source": [
    "from selenium import webdriver\n",
    "from selenium.webdriver.chrome.options import Options\n",
    "from selenium.webdriver.common.keys import Keys\n",
    "import os"
   ]
  },
  {
   "cell_type": "code",
   "execution_count": 109,
   "metadata": {},
   "outputs": [],
   "source": [
    "options = webdriver.ChromeOptions()\n",
    "#options.add_argument('headless')\n",
    "options.add_argument('window-size=1200x600')"
   ]
  },
  {
   "cell_type": "markdown",
   "metadata": {},
   "source": [
    "### The direct Google Images URL is:\n",
    "https://www.google.com/search?tbm=isch&q=findSomeImage"
   ]
  },
  {
   "cell_type": "code",
   "execution_count": 110,
   "metadata": {},
   "outputs": [],
   "source": [
    "images_to_download = input(\"Which images do you want to download? \")"
   ]
  },
  {
   "cell_type": "code",
   "execution_count": 140,
   "metadata": {},
   "outputs": [],
   "source": [
    "driver = webdriver.Chrome(options=options)"
   ]
  },
  {
   "cell_type": "code",
   "execution_count": 112,
   "metadata": {},
   "outputs": [],
   "source": [
    "driver.get(\"https://www.google.com/search?tbm=isch&q=\" + images_to_download)"
   ]
  },
  {
   "cell_type": "code",
   "execution_count": 113,
   "metadata": {},
   "outputs": [],
   "source": [
    "#driver.save_screenshot(r\"C:\\Users\\kmoudgalya\\Desktop\\Anime_Project\\image.png\")"
   ]
  },
  {
   "cell_type": "code",
   "execution_count": 114,
   "metadata": {},
   "outputs": [],
   "source": [
    "#this works now\n",
    "urls = driver.execute_script(r'''urls = Array.from(document.querySelectorAll('.rg_di .rg_meta')).map(el=>JSON.parse(el.textContent).ou);\n",
    "window.open('data:text/csv;charset=utf-8,' + escape(urls.join('\\n')));''')"
   ]
  },
  {
   "cell_type": "code",
   "execution_count": 115,
   "metadata": {},
   "outputs": [],
   "source": [
    "#this doesnt work\n",
    "#urls = driver.execute_script(r'''<a href=\"data:text/csv;charset=utf-8,${escape(Array.from(document.querySelectorAll('.rg_di .rg_meta')).map(el=>JSON.parse(el.textContent).ou).join('\\n'))}\" download=\"Images.txt\">download urls</a>;''')"
   ]
  },
  {
   "cell_type": "code",
   "execution_count": 116,
   "metadata": {},
   "outputs": [],
   "source": [
    "driver.close()"
   ]
  },
  {
   "cell_type": "markdown",
   "metadata": {},
   "source": [
    "### The headless version cannot download the txt file for some reason."
   ]
  },
  {
   "cell_type": "code",
   "execution_count": 121,
   "metadata": {},
   "outputs": [],
   "source": [
    "# import the necessary packages\n",
    "from imutils import paths\n",
    "import argparse\n",
    "import requests\n",
    "import cv2\n",
    "import os"
   ]
  },
  {
   "cell_type": "code",
   "execution_count": 124,
   "metadata": {},
   "outputs": [
    {
     "name": "stderr",
     "output_type": "stream",
     "text": [
      "usage: ipykernel_launcher.py [-h] -u URLS -o OUTPUT\n",
      "ipykernel_launcher.py: error: the following arguments are required: -u/--urls, -o/--output\n"
     ]
    },
    {
     "ename": "SystemExit",
     "evalue": "2",
     "output_type": "error",
     "traceback": [
      "An exception has occurred, use %tb to see the full traceback.\n",
      "\u001b[1;31mSystemExit\u001b[0m\u001b[1;31m:\u001b[0m 2\n"
     ]
    },
    {
     "name": "stderr",
     "output_type": "stream",
     "text": [
      "C:\\Users\\kmoudgalya\\AppData\\Local\\Continuum\\anaconda3\\lib\\site-packages\\IPython\\core\\interactiveshell.py:2918: UserWarning: To exit: use 'exit', 'quit', or Ctrl-D.\n",
      "  warn(\"To exit: use 'exit', 'quit', or Ctrl-D.\", stacklevel=1)\n"
     ]
    }
   ],
   "source": [
    "#construct the argument parse and parse the arguments\n",
    "ap = argparse.ArgumentParser()\n",
    "ap.add_argument(\"-u\",\"--urls\", required=True,\n",
    "    help=\"path to file containing image URLs\", default = r\"C:\\Users\\kmoudgalya\\Downloads\\download (10)\")\n",
    "ap.add_argument(\"-o\",\"--output\", required=True,\n",
    "    help=\"path to output directory of images\", default = r\"C:\\Users\\kmoudgalya\\Desktop\\Anime_Project\\Images\")\n",
    "args = vars(ap.parse_args())\n",
    " \n",
    "# grab the list of URLs from the input file, then initialize the\n",
    "# total number of images downloaded thus far\n",
    "rows = open(args[\"urls\"]).read().strip().split(\"\\n\")\n",
    "total = 0"
   ]
  },
  {
   "cell_type": "code",
   "execution_count": 130,
   "metadata": {},
   "outputs": [],
   "source": [
    "# # construct the argument parse and parse the arguments\n",
    "# ap = argparse.ArgumentParser()\n",
    "# ap.add_argument(\"-u\", \"--urls\", required=True,\n",
    "# \thelp=\"path to file containing image URLs\")\n",
    "# ap.add_argument(\"-o\", \"--output\", required=True,\n",
    "# \thelp=\"path to output directory of images\")\n",
    "# args = vars(ap.parse_args())\n",
    " \n",
    "# # grab the list of URLs from the input file, then initialize the\n",
    "# # total number of images downloaded thus far\n",
    "rows = open(r\"C:\\Users\\kmoudgalya\\Downloads\\download (10)\").read().strip().split(\"\\n\")\n",
    "total = 0"
   ]
  },
  {
   "cell_type": "code",
   "execution_count": 136,
   "metadata": {},
   "outputs": [
    {
     "name": "stdout",
     "output_type": "stream",
     "text": [
      "[INFO] downloaded: C:\\Users\\kmoudgalya\\Desktop\\Anime_Project\\Images\\00000000.jpg\n",
      "[INFO] downloaded: C:\\Users\\kmoudgalya\\Desktop\\Anime_Project\\Images\\00000001.jpg\n",
      "[INFO] downloaded: C:\\Users\\kmoudgalya\\Desktop\\Anime_Project\\Images\\00000002.jpg\n",
      "[INFO] downloaded: C:\\Users\\kmoudgalya\\Desktop\\Anime_Project\\Images\\00000003.jpg\n",
      "[INFO] downloaded: C:\\Users\\kmoudgalya\\Desktop\\Anime_Project\\Images\\00000004.jpg\n",
      "[INFO] downloaded: C:\\Users\\kmoudgalya\\Desktop\\Anime_Project\\Images\\00000005.jpg\n",
      "[INFO] downloaded: C:\\Users\\kmoudgalya\\Desktop\\Anime_Project\\Images\\00000006.jpg\n",
      "[INFO] downloaded: C:\\Users\\kmoudgalya\\Desktop\\Anime_Project\\Images\\00000007.jpg\n",
      "[INFO] downloaded: C:\\Users\\kmoudgalya\\Desktop\\Anime_Project\\Images\\00000008.jpg\n",
      "[INFO] downloaded: C:\\Users\\kmoudgalya\\Desktop\\Anime_Project\\Images\\00000009.jpg\n",
      "[INFO] downloaded: C:\\Users\\kmoudgalya\\Desktop\\Anime_Project\\Images\\00000010.jpg\n",
      "[INFO] downloaded: C:\\Users\\kmoudgalya\\Desktop\\Anime_Project\\Images\\00000011.jpg\n",
      "[INFO] downloaded: C:\\Users\\kmoudgalya\\Desktop\\Anime_Project\\Images\\00000012.jpg\n",
      "[INFO] downloaded: C:\\Users\\kmoudgalya\\Desktop\\Anime_Project\\Images\\00000013.jpg\n",
      "[INFO] downloaded: C:\\Users\\kmoudgalya\\Desktop\\Anime_Project\\Images\\00000014.jpg\n",
      "[INFO] downloaded: C:\\Users\\kmoudgalya\\Desktop\\Anime_Project\\Images\\00000015.jpg\n",
      "[INFO] downloaded: C:\\Users\\kmoudgalya\\Desktop\\Anime_Project\\Images\\00000016.jpg\n",
      "[INFO] downloaded: C:\\Users\\kmoudgalya\\Desktop\\Anime_Project\\Images\\00000017.jpg\n",
      "[INFO] downloaded: C:\\Users\\kmoudgalya\\Desktop\\Anime_Project\\Images\\00000018.jpg\n",
      "[INFO] downloaded: C:\\Users\\kmoudgalya\\Desktop\\Anime_Project\\Images\\00000019.jpg\n",
      "[INFO] downloaded: C:\\Users\\kmoudgalya\\Desktop\\Anime_Project\\Images\\00000020.jpg\n",
      "[INFO] downloaded: C:\\Users\\kmoudgalya\\Desktop\\Anime_Project\\Images\\00000021.jpg\n",
      "[INFO] downloaded: C:\\Users\\kmoudgalya\\Desktop\\Anime_Project\\Images\\00000022.jpg\n",
      "[INFO] downloaded: C:\\Users\\kmoudgalya\\Desktop\\Anime_Project\\Images\\00000023.jpg\n",
      "[INFO] downloaded: C:\\Users\\kmoudgalya\\Desktop\\Anime_Project\\Images\\00000024.jpg\n",
      "[INFO] downloaded: C:\\Users\\kmoudgalya\\Desktop\\Anime_Project\\Images\\00000025.jpg\n",
      "[INFO] downloaded: C:\\Users\\kmoudgalya\\Desktop\\Anime_Project\\Images\\00000026.jpg\n",
      "[INFO] downloaded: C:\\Users\\kmoudgalya\\Desktop\\Anime_Project\\Images\\00000027.jpg\n",
      "[INFO] downloaded: C:\\Users\\kmoudgalya\\Desktop\\Anime_Project\\Images\\00000028.jpg\n",
      "[INFO] downloaded: C:\\Users\\kmoudgalya\\Desktop\\Anime_Project\\Images\\00000029.jpg\n",
      "[INFO] downloaded: C:\\Users\\kmoudgalya\\Desktop\\Anime_Project\\Images\\00000030.jpg\n",
      "[INFO] downloaded: C:\\Users\\kmoudgalya\\Desktop\\Anime_Project\\Images\\00000031.jpg\n",
      "[INFO] downloaded: C:\\Users\\kmoudgalya\\Desktop\\Anime_Project\\Images\\00000032.jpg\n",
      "[INFO] downloaded: C:\\Users\\kmoudgalya\\Desktop\\Anime_Project\\Images\\00000033.jpg\n",
      "[INFO] downloaded: C:\\Users\\kmoudgalya\\Desktop\\Anime_Project\\Images\\00000034.jpg\n",
      "[INFO] downloaded: C:\\Users\\kmoudgalya\\Desktop\\Anime_Project\\Images\\00000035.jpg\n",
      "[INFO] downloaded: C:\\Users\\kmoudgalya\\Desktop\\Anime_Project\\Images\\00000036.jpg\n",
      "[INFO] downloaded: C:\\Users\\kmoudgalya\\Desktop\\Anime_Project\\Images\\00000037.jpg\n",
      "[INFO] downloaded: C:\\Users\\kmoudgalya\\Desktop\\Anime_Project\\Images\\00000038.jpg\n",
      "[INFO] downloaded: C:\\Users\\kmoudgalya\\Desktop\\Anime_Project\\Images\\00000039.jpg\n",
      "[INFO] downloaded: C:\\Users\\kmoudgalya\\Desktop\\Anime_Project\\Images\\00000040.jpg\n",
      "[INFO] downloaded: C:\\Users\\kmoudgalya\\Desktop\\Anime_Project\\Images\\00000041.jpg\n",
      "[INFO] downloaded: C:\\Users\\kmoudgalya\\Desktop\\Anime_Project\\Images\\00000042.jpg\n",
      "[INFO] downloaded: C:\\Users\\kmoudgalya\\Desktop\\Anime_Project\\Images\\00000043.jpg\n",
      "[INFO] downloaded: C:\\Users\\kmoudgalya\\Desktop\\Anime_Project\\Images\\00000044.jpg\n",
      "[INFO] downloaded: C:\\Users\\kmoudgalya\\Desktop\\Anime_Project\\Images\\00000045.jpg\n",
      "[INFO] downloaded: C:\\Users\\kmoudgalya\\Desktop\\Anime_Project\\Images\\00000046.jpg\n",
      "[INFO] downloaded: C:\\Users\\kmoudgalya\\Desktop\\Anime_Project\\Images\\00000047.jpg\n",
      "[INFO] downloaded: C:\\Users\\kmoudgalya\\Desktop\\Anime_Project\\Images\\00000048.jpg\n",
      "[INFO] downloaded: C:\\Users\\kmoudgalya\\Desktop\\Anime_Project\\Images\\00000049.jpg\n",
      "[INFO] downloaded: C:\\Users\\kmoudgalya\\Desktop\\Anime_Project\\Images\\00000050.jpg\n",
      "[INFO] downloaded: C:\\Users\\kmoudgalya\\Desktop\\Anime_Project\\Images\\00000051.jpg\n",
      "[INFO] downloaded: C:\\Users\\kmoudgalya\\Desktop\\Anime_Project\\Images\\00000052.jpg\n",
      "[INFO] downloaded: C:\\Users\\kmoudgalya\\Desktop\\Anime_Project\\Images\\00000053.jpg\n",
      "[INFO] downloaded: C:\\Users\\kmoudgalya\\Desktop\\Anime_Project\\Images\\00000054.jpg\n",
      "[INFO] downloaded: C:\\Users\\kmoudgalya\\Desktop\\Anime_Project\\Images\\00000055.jpg\n",
      "[INFO] downloaded: C:\\Users\\kmoudgalya\\Desktop\\Anime_Project\\Images\\00000056.jpg\n",
      "[INFO] downloaded: C:\\Users\\kmoudgalya\\Desktop\\Anime_Project\\Images\\00000057.jpg\n",
      "[INFO] downloaded: C:\\Users\\kmoudgalya\\Desktop\\Anime_Project\\Images\\00000058.jpg\n",
      "[INFO] downloaded: C:\\Users\\kmoudgalya\\Desktop\\Anime_Project\\Images\\00000059.jpg\n",
      "[INFO] downloaded: C:\\Users\\kmoudgalya\\Desktop\\Anime_Project\\Images\\00000060.jpg\n",
      "[INFO] downloaded: C:\\Users\\kmoudgalya\\Desktop\\Anime_Project\\Images\\00000061.jpg\n",
      "[INFO] error downloading C:\\Users\\kmoudgalya\\Desktop\\Anime_Project\\Images\\00000061.jpg...skipping\n",
      "[INFO] downloaded: C:\\Users\\kmoudgalya\\Desktop\\Anime_Project\\Images\\00000062.jpg\n",
      "[INFO] downloaded: C:\\Users\\kmoudgalya\\Desktop\\Anime_Project\\Images\\00000063.jpg\n",
      "[INFO] downloaded: C:\\Users\\kmoudgalya\\Desktop\\Anime_Project\\Images\\00000064.jpg\n",
      "[INFO] downloaded: C:\\Users\\kmoudgalya\\Desktop\\Anime_Project\\Images\\00000065.jpg\n",
      "[INFO] error downloading C:\\Users\\kmoudgalya\\Desktop\\Anime_Project\\Images\\00000065.jpg...skipping\n",
      "[INFO] downloaded: C:\\Users\\kmoudgalya\\Desktop\\Anime_Project\\Images\\00000066.jpg\n",
      "[INFO] downloaded: C:\\Users\\kmoudgalya\\Desktop\\Anime_Project\\Images\\00000067.jpg\n",
      "[INFO] downloaded: C:\\Users\\kmoudgalya\\Desktop\\Anime_Project\\Images\\00000068.jpg\n",
      "[INFO] downloaded: C:\\Users\\kmoudgalya\\Desktop\\Anime_Project\\Images\\00000069.jpg\n",
      "[INFO] downloaded: C:\\Users\\kmoudgalya\\Desktop\\Anime_Project\\Images\\00000070.jpg\n",
      "[INFO] downloaded: C:\\Users\\kmoudgalya\\Desktop\\Anime_Project\\Images\\00000071.jpg\n",
      "[INFO] downloaded: C:\\Users\\kmoudgalya\\Desktop\\Anime_Project\\Images\\00000072.jpg\n",
      "[INFO] downloaded: C:\\Users\\kmoudgalya\\Desktop\\Anime_Project\\Images\\00000073.jpg\n",
      "[INFO] downloaded: C:\\Users\\kmoudgalya\\Desktop\\Anime_Project\\Images\\00000074.jpg\n",
      "[INFO] downloaded: C:\\Users\\kmoudgalya\\Desktop\\Anime_Project\\Images\\00000075.jpg\n",
      "[INFO] downloaded: C:\\Users\\kmoudgalya\\Desktop\\Anime_Project\\Images\\00000076.jpg\n",
      "[INFO] downloaded: C:\\Users\\kmoudgalya\\Desktop\\Anime_Project\\Images\\00000077.jpg\n",
      "[INFO] downloaded: C:\\Users\\kmoudgalya\\Desktop\\Anime_Project\\Images\\00000078.jpg\n",
      "[INFO] downloaded: C:\\Users\\kmoudgalya\\Desktop\\Anime_Project\\Images\\00000079.jpg\n",
      "[INFO] downloaded: C:\\Users\\kmoudgalya\\Desktop\\Anime_Project\\Images\\00000080.jpg\n",
      "[INFO] downloaded: C:\\Users\\kmoudgalya\\Desktop\\Anime_Project\\Images\\00000081.jpg\n",
      "[INFO] downloaded: C:\\Users\\kmoudgalya\\Desktop\\Anime_Project\\Images\\00000082.jpg\n",
      "[INFO] downloaded: C:\\Users\\kmoudgalya\\Desktop\\Anime_Project\\Images\\00000083.jpg\n",
      "[INFO] downloaded: C:\\Users\\kmoudgalya\\Desktop\\Anime_Project\\Images\\00000084.jpg\n",
      "[INFO] downloaded: C:\\Users\\kmoudgalya\\Desktop\\Anime_Project\\Images\\00000085.jpg\n",
      "[INFO] downloaded: C:\\Users\\kmoudgalya\\Desktop\\Anime_Project\\Images\\00000086.jpg\n",
      "[INFO] downloaded: C:\\Users\\kmoudgalya\\Desktop\\Anime_Project\\Images\\00000087.jpg\n",
      "[INFO] downloaded: C:\\Users\\kmoudgalya\\Desktop\\Anime_Project\\Images\\00000088.jpg\n",
      "[INFO] error downloading C:\\Users\\kmoudgalya\\Desktop\\Anime_Project\\Images\\00000088.jpg...skipping\n",
      "[INFO] downloaded: C:\\Users\\kmoudgalya\\Desktop\\Anime_Project\\Images\\00000089.jpg\n",
      "[INFO] downloaded: C:\\Users\\kmoudgalya\\Desktop\\Anime_Project\\Images\\00000090.jpg\n",
      "[INFO] downloaded: C:\\Users\\kmoudgalya\\Desktop\\Anime_Project\\Images\\00000091.jpg\n",
      "[INFO] downloaded: C:\\Users\\kmoudgalya\\Desktop\\Anime_Project\\Images\\00000092.jpg\n",
      "[INFO] downloaded: C:\\Users\\kmoudgalya\\Desktop\\Anime_Project\\Images\\00000093.jpg\n",
      "[INFO] downloaded: C:\\Users\\kmoudgalya\\Desktop\\Anime_Project\\Images\\00000094.jpg\n",
      "[INFO] downloaded: C:\\Users\\kmoudgalya\\Desktop\\Anime_Project\\Images\\00000095.jpg\n",
      "[INFO] downloaded: C:\\Users\\kmoudgalya\\Desktop\\Anime_Project\\Images\\00000096.jpg\n"
     ]
    }
   ],
   "source": [
    "# loop the URLs\n",
    "for url in rows:\n",
    "\ttry:\n",
    "\t\t# try to download the image\n",
    "\t\tr = requests.get(url, timeout=60)\n",
    "\n",
    "\t\t# save the image to disk\n",
    "\t\tp = os.path.sep.join([r\"C:\\Users\\kmoudgalya\\Desktop\\Anime_Project\\Images\", \"{}.jpg\".format(str(total).zfill(8))])\n",
    "\t\tf = open(p, \"wb\")\n",
    "\t\tf.write(r.content)\n",
    "\t\tf.close()\n",
    "\n",
    "\t\t# update the counter\n",
    "\t\tprint(\"[INFO] downloaded: {}\".format(p))\n",
    "\t\ttotal += 1\n",
    "\n",
    "\t# handle if any exceptions are thrown during the download process\n",
    "\texcept:\n",
    "\t\tprint(\"[INFO] error downloading {}...skipping\".format(p))"
   ]
  },
  {
   "cell_type": "code",
   "execution_count": 138,
   "metadata": {},
   "outputs": [
    {
     "name": "stdout",
     "output_type": "stream",
     "text": [
      "[INFO] deleting C:\\Users\\kmoudgalya\\Desktop\\Anime_Project\\Images\\00000007.jpg\n",
      "[INFO] deleting C:\\Users\\kmoudgalya\\Desktop\\Anime_Project\\Images\\00000024.jpg\n",
      "[INFO] deleting C:\\Users\\kmoudgalya\\Desktop\\Anime_Project\\Images\\00000039.jpg\n",
      "[INFO] deleting C:\\Users\\kmoudgalya\\Desktop\\Anime_Project\\Images\\00000059.jpg\n",
      "[INFO] deleting C:\\Users\\kmoudgalya\\Desktop\\Anime_Project\\Images\\00000061.jpg\n",
      "[INFO] deleting C:\\Users\\kmoudgalya\\Desktop\\Anime_Project\\Images\\00000067.jpg\n"
     ]
    }
   ],
   "source": [
    "# loop over the image paths we just downloaded\n",
    "for imagePath in paths.list_images(r\"C:\\Users\\kmoudgalya\\Desktop\\Anime_Project\\Images\"):\n",
    "\t# initialize if the image should be deleted or not\n",
    "\tdelete = False\n",
    " \n",
    "\t# try to load the image\n",
    "\ttry:\n",
    "\t\timage = cv2.imread(imagePath)\n",
    " \n",
    "\t\t# if the image is `None` then we could not properly load it\n",
    "\t\t# from disk, so delete it\n",
    "\t\tif image is None:\n",
    "\t\t\tdelete = True\n",
    " \n",
    "\t# if OpenCV cannot load the image then the image is likely\n",
    "\t# corrupt so we should delete it\n",
    "\texcept:\n",
    "\t\tprint(\"Except\")\n",
    "\t\tdelete = True\n",
    " \n",
    "\t# check to see if the image should be deleted\n",
    "\tif delete:\n",
    "\t\tprint(\"[INFO] deleting {}\".format(imagePath))\n",
    "\t\tos.remove(imagePath)"
   ]
  },
  {
   "cell_type": "code",
   "execution_count": 145,
   "metadata": {},
   "outputs": [
    {
     "name": "stdout",
     "output_type": "stream",
     "text": [
      "C:\\Users\\kmoudgalya\\Downloads\\download (10)\n"
     ]
    }
   ],
   "source": [
    "import glob\n",
    "import os\n",
    "\n",
    "list_of_files = glob.glob(r\"C:\\Users\\kmoudgalya\\Downloads\\*\") # * means all if need specific format then *.csv\n",
    "latest_file = max(list_of_files, key=os.path.getctime)\n",
    "print(latest_file)"
   ]
  },
  {
   "cell_type": "code",
   "execution_count": null,
   "metadata": {},
   "outputs": [],
   "source": []
  }
 ],
 "metadata": {
  "kernelspec": {
   "display_name": "Python 3",
   "language": "python",
   "name": "python3"
  },
  "language_info": {
   "codemirror_mode": {
    "name": "ipython",
    "version": 3
   },
   "file_extension": ".py",
   "mimetype": "text/x-python",
   "name": "python",
   "nbconvert_exporter": "python",
   "pygments_lexer": "ipython3",
   "version": "3.6.4"
  }
 },
 "nbformat": 4,
 "nbformat_minor": 2
}
